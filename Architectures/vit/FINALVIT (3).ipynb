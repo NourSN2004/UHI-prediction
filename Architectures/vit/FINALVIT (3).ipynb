{
  "nbformat": 4,
  "nbformat_minor": 0,
  "metadata": {
    "colab": {
      "provenance": [],
      "gpuType": "T4"
    },
    "kernelspec": {
      "name": "python3",
      "display_name": "Python 3"
    },
    "language_info": {
      "name": "python"
    },
    "accelerator": "GPU",
    "widgets": {
      "application/vnd.jupyter.widget-state+json": {
        "b973b842bde94943b119e1640a7a9d78": {
          "model_module": "@jupyter-widgets/controls",
          "model_name": "HBoxModel",
          "model_module_version": "1.5.0",
          "state": {
            "_dom_classes": [],
            "_model_module": "@jupyter-widgets/controls",
            "_model_module_version": "1.5.0",
            "_model_name": "HBoxModel",
            "_view_count": null,
            "_view_module": "@jupyter-widgets/controls",
            "_view_module_version": "1.5.0",
            "_view_name": "HBoxView",
            "box_style": "",
            "children": [
              "IPY_MODEL_84fffe48c27e4dffa8288483673952b6",
              "IPY_MODEL_3561e45bd9e241c48f227c7941ddf08c",
              "IPY_MODEL_e9490b77b49c4e309a6b5cba3c75344f"
            ],
            "layout": "IPY_MODEL_c5c82e90b17840c19653c2618e52776b"
          }
        },
        "84fffe48c27e4dffa8288483673952b6": {
          "model_module": "@jupyter-widgets/controls",
          "model_name": "HTMLModel",
          "model_module_version": "1.5.0",
          "state": {
            "_dom_classes": [],
            "_model_module": "@jupyter-widgets/controls",
            "_model_module_version": "1.5.0",
            "_model_name": "HTMLModel",
            "_view_count": null,
            "_view_module": "@jupyter-widgets/controls",
            "_view_module_version": "1.5.0",
            "_view_name": "HTMLView",
            "description": "",
            "description_tooltip": null,
            "layout": "IPY_MODEL_c714979beb4346868d604d80a6dd54eb",
            "placeholder": "​",
            "style": "IPY_MODEL_36d4b2401d5440d58f79ee05b57b5d0a",
            "value": "model.safetensors: 100%"
          }
        },
        "3561e45bd9e241c48f227c7941ddf08c": {
          "model_module": "@jupyter-widgets/controls",
          "model_name": "FloatProgressModel",
          "model_module_version": "1.5.0",
          "state": {
            "_dom_classes": [],
            "_model_module": "@jupyter-widgets/controls",
            "_model_module_version": "1.5.0",
            "_model_name": "FloatProgressModel",
            "_view_count": null,
            "_view_module": "@jupyter-widgets/controls",
            "_view_module_version": "1.5.0",
            "_view_name": "ProgressView",
            "bar_style": "success",
            "description": "",
            "description_tooltip": null,
            "layout": "IPY_MODEL_18c5917a48d14a1cac35ec376fb4e475",
            "max": 346284714,
            "min": 0,
            "orientation": "horizontal",
            "style": "IPY_MODEL_a1cd1c6c2b9a41908bad45fbd678b9ef",
            "value": 346284714
          }
        },
        "e9490b77b49c4e309a6b5cba3c75344f": {
          "model_module": "@jupyter-widgets/controls",
          "model_name": "HTMLModel",
          "model_module_version": "1.5.0",
          "state": {
            "_dom_classes": [],
            "_model_module": "@jupyter-widgets/controls",
            "_model_module_version": "1.5.0",
            "_model_name": "HTMLModel",
            "_view_count": null,
            "_view_module": "@jupyter-widgets/controls",
            "_view_module_version": "1.5.0",
            "_view_name": "HTMLView",
            "description": "",
            "description_tooltip": null,
            "layout": "IPY_MODEL_01259f754ac5491aa9da123ea952c824",
            "placeholder": "​",
            "style": "IPY_MODEL_bf0117a7239a4e0b9aeee02ad0e7a95e",
            "value": " 346M/346M [00:01&lt;00:00, 245MB/s]"
          }
        },
        "c5c82e90b17840c19653c2618e52776b": {
          "model_module": "@jupyter-widgets/base",
          "model_name": "LayoutModel",
          "model_module_version": "1.2.0",
          "state": {
            "_model_module": "@jupyter-widgets/base",
            "_model_module_version": "1.2.0",
            "_model_name": "LayoutModel",
            "_view_count": null,
            "_view_module": "@jupyter-widgets/base",
            "_view_module_version": "1.2.0",
            "_view_name": "LayoutView",
            "align_content": null,
            "align_items": null,
            "align_self": null,
            "border": null,
            "bottom": null,
            "display": null,
            "flex": null,
            "flex_flow": null,
            "grid_area": null,
            "grid_auto_columns": null,
            "grid_auto_flow": null,
            "grid_auto_rows": null,
            "grid_column": null,
            "grid_gap": null,
            "grid_row": null,
            "grid_template_areas": null,
            "grid_template_columns": null,
            "grid_template_rows": null,
            "height": null,
            "justify_content": null,
            "justify_items": null,
            "left": null,
            "margin": null,
            "max_height": null,
            "max_width": null,
            "min_height": null,
            "min_width": null,
            "object_fit": null,
            "object_position": null,
            "order": null,
            "overflow": null,
            "overflow_x": null,
            "overflow_y": null,
            "padding": null,
            "right": null,
            "top": null,
            "visibility": null,
            "width": null
          }
        },
        "c714979beb4346868d604d80a6dd54eb": {
          "model_module": "@jupyter-widgets/base",
          "model_name": "LayoutModel",
          "model_module_version": "1.2.0",
          "state": {
            "_model_module": "@jupyter-widgets/base",
            "_model_module_version": "1.2.0",
            "_model_name": "LayoutModel",
            "_view_count": null,
            "_view_module": "@jupyter-widgets/base",
            "_view_module_version": "1.2.0",
            "_view_name": "LayoutView",
            "align_content": null,
            "align_items": null,
            "align_self": null,
            "border": null,
            "bottom": null,
            "display": null,
            "flex": null,
            "flex_flow": null,
            "grid_area": null,
            "grid_auto_columns": null,
            "grid_auto_flow": null,
            "grid_auto_rows": null,
            "grid_column": null,
            "grid_gap": null,
            "grid_row": null,
            "grid_template_areas": null,
            "grid_template_columns": null,
            "grid_template_rows": null,
            "height": null,
            "justify_content": null,
            "justify_items": null,
            "left": null,
            "margin": null,
            "max_height": null,
            "max_width": null,
            "min_height": null,
            "min_width": null,
            "object_fit": null,
            "object_position": null,
            "order": null,
            "overflow": null,
            "overflow_x": null,
            "overflow_y": null,
            "padding": null,
            "right": null,
            "top": null,
            "visibility": null,
            "width": null
          }
        },
        "36d4b2401d5440d58f79ee05b57b5d0a": {
          "model_module": "@jupyter-widgets/controls",
          "model_name": "DescriptionStyleModel",
          "model_module_version": "1.5.0",
          "state": {
            "_model_module": "@jupyter-widgets/controls",
            "_model_module_version": "1.5.0",
            "_model_name": "DescriptionStyleModel",
            "_view_count": null,
            "_view_module": "@jupyter-widgets/base",
            "_view_module_version": "1.2.0",
            "_view_name": "StyleView",
            "description_width": ""
          }
        },
        "18c5917a48d14a1cac35ec376fb4e475": {
          "model_module": "@jupyter-widgets/base",
          "model_name": "LayoutModel",
          "model_module_version": "1.2.0",
          "state": {
            "_model_module": "@jupyter-widgets/base",
            "_model_module_version": "1.2.0",
            "_model_name": "LayoutModel",
            "_view_count": null,
            "_view_module": "@jupyter-widgets/base",
            "_view_module_version": "1.2.0",
            "_view_name": "LayoutView",
            "align_content": null,
            "align_items": null,
            "align_self": null,
            "border": null,
            "bottom": null,
            "display": null,
            "flex": null,
            "flex_flow": null,
            "grid_area": null,
            "grid_auto_columns": null,
            "grid_auto_flow": null,
            "grid_auto_rows": null,
            "grid_column": null,
            "grid_gap": null,
            "grid_row": null,
            "grid_template_areas": null,
            "grid_template_columns": null,
            "grid_template_rows": null,
            "height": null,
            "justify_content": null,
            "justify_items": null,
            "left": null,
            "margin": null,
            "max_height": null,
            "max_width": null,
            "min_height": null,
            "min_width": null,
            "object_fit": null,
            "object_position": null,
            "order": null,
            "overflow": null,
            "overflow_x": null,
            "overflow_y": null,
            "padding": null,
            "right": null,
            "top": null,
            "visibility": null,
            "width": null
          }
        },
        "a1cd1c6c2b9a41908bad45fbd678b9ef": {
          "model_module": "@jupyter-widgets/controls",
          "model_name": "ProgressStyleModel",
          "model_module_version": "1.5.0",
          "state": {
            "_model_module": "@jupyter-widgets/controls",
            "_model_module_version": "1.5.0",
            "_model_name": "ProgressStyleModel",
            "_view_count": null,
            "_view_module": "@jupyter-widgets/base",
            "_view_module_version": "1.2.0",
            "_view_name": "StyleView",
            "bar_color": null,
            "description_width": ""
          }
        },
        "01259f754ac5491aa9da123ea952c824": {
          "model_module": "@jupyter-widgets/base",
          "model_name": "LayoutModel",
          "model_module_version": "1.2.0",
          "state": {
            "_model_module": "@jupyter-widgets/base",
            "_model_module_version": "1.2.0",
            "_model_name": "LayoutModel",
            "_view_count": null,
            "_view_module": "@jupyter-widgets/base",
            "_view_module_version": "1.2.0",
            "_view_name": "LayoutView",
            "align_content": null,
            "align_items": null,
            "align_self": null,
            "border": null,
            "bottom": null,
            "display": null,
            "flex": null,
            "flex_flow": null,
            "grid_area": null,
            "grid_auto_columns": null,
            "grid_auto_flow": null,
            "grid_auto_rows": null,
            "grid_column": null,
            "grid_gap": null,
            "grid_row": null,
            "grid_template_areas": null,
            "grid_template_columns": null,
            "grid_template_rows": null,
            "height": null,
            "justify_content": null,
            "justify_items": null,
            "left": null,
            "margin": null,
            "max_height": null,
            "max_width": null,
            "min_height": null,
            "min_width": null,
            "object_fit": null,
            "object_position": null,
            "order": null,
            "overflow": null,
            "overflow_x": null,
            "overflow_y": null,
            "padding": null,
            "right": null,
            "top": null,
            "visibility": null,
            "width": null
          }
        },
        "bf0117a7239a4e0b9aeee02ad0e7a95e": {
          "model_module": "@jupyter-widgets/controls",
          "model_name": "DescriptionStyleModel",
          "model_module_version": "1.5.0",
          "state": {
            "_model_module": "@jupyter-widgets/controls",
            "_model_module_version": "1.5.0",
            "_model_name": "DescriptionStyleModel",
            "_view_count": null,
            "_view_module": "@jupyter-widgets/base",
            "_view_module_version": "1.2.0",
            "_view_name": "StyleView",
            "description_width": ""
          }
        }
      }
    }
  },
  "cells": [
    {
      "cell_type": "code",
      "execution_count": null,
      "metadata": {
        "colab": {
          "base_uri": "https://localhost:8080/"
        },
        "id": "Q0jAC2X-2T3W",
        "outputId": "7852f659-e8a2-434f-a3c7-33a1fc978836"
      },
      "outputs": [
        {
          "output_type": "stream",
          "name": "stdout",
          "text": [
            "Mounted at /content/drive\n"
          ]
        }
      ],
      "source": [
        "from google.colab import drive\n",
        "drive.mount('/content/drive')"
      ]
    },
    {
      "cell_type": "code",
      "source": [
        "# Cell 1 ▶ Install required packages\n",
        "!pip install timm torchvision tifffile imagecodecs --quiet"
      ],
      "metadata": {
        "colab": {
          "base_uri": "https://localhost:8080/"
        },
        "id": "VMK64MjD_HHm",
        "outputId": "8f7c4821-21a9-4030-b439-f2d31aa3a391"
      },
      "execution_count": null,
      "outputs": [
        {
          "output_type": "stream",
          "name": "stdout",
          "text": [
            "\u001b[2K   \u001b[90m━━━━━━━━━━━━━━━━━━━━━━━━━━━━━━━━━━━━━━━━\u001b[0m \u001b[32m363.4/363.4 MB\u001b[0m \u001b[31m3.7 MB/s\u001b[0m eta \u001b[36m0:00:00\u001b[0m\n",
            "\u001b[2K   \u001b[90m━━━━━━━━━━━━━━━━━━━━━━━━━━━━━━━━━━━━━━━━\u001b[0m \u001b[32m13.8/13.8 MB\u001b[0m \u001b[31m122.3 MB/s\u001b[0m eta \u001b[36m0:00:00\u001b[0m\n",
            "\u001b[2K   \u001b[90m━━━━━━━━━━━━━━━━━━━━━━━━━━━━━━━━━━━━━━━━\u001b[0m \u001b[32m24.6/24.6 MB\u001b[0m \u001b[31m27.3 MB/s\u001b[0m eta \u001b[36m0:00:00\u001b[0m\n",
            "\u001b[2K   \u001b[90m━━━━━━━━━━━━━━━━━━━━━━━━━━━━━━━━━━━━━━━━\u001b[0m \u001b[32m883.7/883.7 kB\u001b[0m \u001b[31m30.6 MB/s\u001b[0m eta \u001b[36m0:00:00\u001b[0m\n",
            "\u001b[2K   \u001b[90m━━━━━━━━━━━━━━━━━━━━━━━━━━━━━━━━━━━━━━━━\u001b[0m \u001b[32m664.8/664.8 MB\u001b[0m \u001b[31m2.8 MB/s\u001b[0m eta \u001b[36m0:00:00\u001b[0m\n",
            "\u001b[2K   \u001b[90m━━━━━━━━━━━━━━━━━━━━━━━━━━━━━━━━━━━━━━━━\u001b[0m \u001b[32m211.5/211.5 MB\u001b[0m \u001b[31m5.2 MB/s\u001b[0m eta \u001b[36m0:00:00\u001b[0m\n",
            "\u001b[2K   \u001b[90m━━━━━━━━━━━━━━━━━━━━━━━━━━━━━━━━━━━━━━━━\u001b[0m \u001b[32m56.3/56.3 MB\u001b[0m \u001b[31m19.1 MB/s\u001b[0m eta \u001b[36m0:00:00\u001b[0m\n",
            "\u001b[2K   \u001b[90m━━━━━━━━━━━━━━━━━━━━━━━━━━━━━━━━━━━━━━━━\u001b[0m \u001b[32m127.9/127.9 MB\u001b[0m \u001b[31m8.1 MB/s\u001b[0m eta \u001b[36m0:00:00\u001b[0m\n",
            "\u001b[2K   \u001b[90m━━━━━━━━━━━━━━━━━━━━━━━━━━━━━━━━━━━━━━━━\u001b[0m \u001b[32m207.5/207.5 MB\u001b[0m \u001b[31m6.2 MB/s\u001b[0m eta \u001b[36m0:00:00\u001b[0m\n",
            "\u001b[2K   \u001b[90m━━━━━━━━━━━━━━━━━━━━━━━━━━━━━━━━━━━━━━━━\u001b[0m \u001b[32m21.1/21.1 MB\u001b[0m \u001b[31m99.2 MB/s\u001b[0m eta \u001b[36m0:00:00\u001b[0m\n",
            "\u001b[2K   \u001b[90m━━━━━━━━━━━━━━━━━━━━━━━━━━━━━━━━━━━━━━━━\u001b[0m \u001b[32m45.6/45.6 MB\u001b[0m \u001b[31m15.3 MB/s\u001b[0m eta \u001b[36m0:00:00\u001b[0m\n",
            "\u001b[?25h"
          ]
        }
      ]
    },
    {
      "cell_type": "code",
      "source": [
        "# Cell 2 ▶ Consolidated imports\n",
        "import os\n",
        "import math\n",
        "import time\n",
        "\n",
        "import pandas as pd\n",
        "import numpy as np\n",
        "\n",
        "import torch\n",
        "import torch.nn as nn\n",
        "import torch.nn.functional as F\n",
        "from torch.utils.data import Dataset, DataLoader, random_split\n",
        "\n",
        "import timm\n",
        "from torchvision import transforms, models\n",
        "\n",
        "from tifffile import imread"
      ],
      "metadata": {
        "id": "lswUchhM_ITh"
      },
      "execution_count": null,
      "outputs": []
    },
    {
      "cell_type": "code",
      "source": [
        "class LSTDataset(Dataset):\n",
        "    def __init__(self, df, patches_dir, weather_cols):\n",
        "        self.df           = df.reset_index(drop=True)\n",
        "        self.patches_dir  = patches_dir\n",
        "        self.weather_cols = weather_cols\n",
        "        self.transform    = transforms.Compose([\n",
        "            transforms.ToPILImage(),\n",
        "            transforms.Resize((224,224)),\n",
        "            transforms.ToTensor(),\n",
        "            transforms.Normalize(mean=[0.485,0.456,0.406],\n",
        "                                 std =[0.229,0.224,0.225]),\n",
        "        ])\n",
        "\n",
        "    def __len__(self):\n",
        "        return len(self.df)\n",
        "\n",
        "    def __getitem__(self, idx):\n",
        "        row   = self.df.loc[idx]\n",
        "        path  = os.path.join(self.patches_dir, row[\"filename\"])\n",
        "        arr   = imread(path).astype(np.float32)  # shape = (bands, H, W)\n",
        "\n",
        "        img_np = arr[[1,2,3],:,:].transpose(1,2,0).astype(np.uint8)\n",
        "        img    = self.transform(img_np)  # [3,224,224]\n",
        "\n",
        "        tar_np = arr[0,:,:]\n",
        "        target = torch.tensor(tar_np, dtype=torch.float32).unsqueeze(0)  # [1,H,W]\n",
        "\n",
        "        # ✅ Resize your target to match model output shape (56x56 exactly)\n",
        "        target = F.interpolate(target.unsqueeze(0), size=(56, 56),\n",
        "                               mode='bilinear', align_corners=False).squeeze(0)\n",
        "\n",
        "        weather = torch.tensor(\n",
        "            row[self.weather_cols].values.astype(np.float32)\n",
        "        )\n",
        "\n",
        "        return img, weather, target"
      ],
      "metadata": {
        "id": "CpjLbwI-4tln"
      },
      "execution_count": null,
      "outputs": []
    },
    {
      "cell_type": "code",
      "source": [
        "# define which meteorological columns to pull\n",
        "weather_cols = [\n",
        "    \"air_temp_C\",\n",
        "    \"dew_point_C\",\n",
        "    \"relative_humidity_percent\",\n",
        "    \"wind_speed_m_s\",\n",
        "    \"precipitation_in\",\n",
        "]"
      ],
      "metadata": {
        "id": "Wlqm9zlq7Mof"
      },
      "execution_count": null,
      "outputs": []
    },
    {
      "cell_type": "code",
      "source": [
        "df = pd.read_csv(\"/content/drive/MyDrive/PatchedOutput/tiff_with_meteo.csv\")\n",
        "for col in weather_cols:\n",
        "    df[col] = pd.to_numeric(df[col], errors=\"coerce\")\n",
        "df = df.dropna(subset=weather_cols + [\"filename\"]).reset_index(drop=True)\n",
        "\n",
        "patches_dir = \"/content/drive/MyDrive/PatchedOutput_Cleaned\"\n",
        "dataset     = LSTDataset(df, patches_dir, weather_cols)\n",
        "train_sz    = int(0.8 * len(dataset))\n",
        "val_sz      = len(dataset) - train_sz\n",
        "train_ds, val_ds = random_split(dataset, [train_sz, val_sz])\n",
        "\n",
        "train_loader = DataLoader(train_ds, batch_size=4, shuffle=True,  num_workers=0, pin_memory=False)\n",
        "val_loader   = DataLoader(val_ds,   batch_size=4, shuffle=False, num_workers=0, pin_memory=False)\n"
      ],
      "metadata": {
        "id": "Ey8dKeCj7Rh5"
      },
      "execution_count": null,
      "outputs": []
    },
    {
      "cell_type": "code",
      "source": [
        "# 1) Define your model class (you only need to run this once per restart)\n",
        "import math, torch.nn as nn, timm\n",
        "\n",
        "class PretrainedViTLSTModel(nn.Module):\n",
        "    def __init__(self,\n",
        "                 weather_dim: int = 5,\n",
        "                 hidden_dim:  int = 768,\n",
        "                 vit_name:    str = \"vit_base_patch16_224\",\n",
        "                 num_layers:  int = 2,\n",
        "                 num_heads:   int = 8):\n",
        "        super().__init__()\n",
        "        self.vit = timm.create_model(vit_name, pretrained=True, num_classes=0)\n",
        "        for p in self.vit.parameters(): p.requires_grad = False\n",
        "        self.weather_proj = nn.Linear(weather_dim, hidden_dim)\n",
        "        enc = nn.TransformerEncoderLayer(d_model=hidden_dim,\n",
        "                                         nhead=num_heads,\n",
        "                                         dim_feedforward=hidden_dim*4,\n",
        "                                         dropout=0.1)\n",
        "        self.transformer = nn.TransformerEncoder(enc, num_layers)\n",
        "        self.deconv = nn.Sequential(\n",
        "            nn.ConvTranspose2d(hidden_dim, hidden_dim//2, kernel_size=2, stride=2),\n",
        "            nn.BatchNorm2d(hidden_dim//2), nn.ReLU(inplace=True),\n",
        "            nn.ConvTranspose2d(hidden_dim//2, hidden_dim//4, kernel_size=2, stride=2),\n",
        "            nn.BatchNorm2d(hidden_dim//4), nn.ReLU(inplace=True),\n",
        "            nn.Conv2d(hidden_dim//4, 1, kernel_size=1)\n",
        "        )\n",
        "\n",
        "    def forward(self, images, weather):\n",
        "        feats   = self.vit.forward_features(images)   # [B,1+N,D]\n",
        "        cls_tok = feats[:,0:1]                        # [B,1,D]\n",
        "        patches = feats[:,1:,:]                       # [B,N,D]\n",
        "        w_emb   = self.weather_proj(weather).unsqueeze(1)  # [B,1,D]\n",
        "        tokens  = torch.cat([patches, w_emb, cls_tok], dim=1)  # [B,N+2,D]\n",
        "        t       = tokens.permute(1,0,2)\n",
        "        t       = self.transformer(t)\n",
        "        t       = t.permute(1,0,2)\n",
        "        patch_out = t[:,:-2,:]                        # drop weather+CLS\n",
        "        B,N,D     = patch_out.shape\n",
        "        G         = int(math.sqrt(N))\n",
        "        x         = patch_out.transpose(1,2).view(B,D,G,G)\n",
        "        return self.deconv(x)                         # [B,1,224,224]\n"
      ],
      "metadata": {
        "id": "wBOkpwrW7qbV"
      },
      "execution_count": null,
      "outputs": []
    },
    {
      "cell_type": "code",
      "source": [
        "device = torch.device(\"cuda\" if torch.cuda.is_available() else \"cpu\")\n",
        "model  = PretrainedViTLSTModel(\n",
        "    weather_dim=len(weather_cols),\n",
        "    hidden_dim=768,\n",
        "    vit_name=\"vit_base_patch16_224\",\n",
        "    num_layers=2,\n",
        "    num_heads=8\n",
        ").to(device)\n",
        "\n",
        "# unfreeze last ViT blocks:\n",
        "for name, param in model.vit.named_parameters():\n",
        "    if any(layer in name for layer in [\"blocks.10\", \"blocks.11\", \"norm\"]):\n",
        "        param.requires_grad = True"
      ],
      "metadata": {
        "id": "EO3DunEz8AzQ",
        "colab": {
          "base_uri": "https://localhost:8080/",
          "height": 208,
          "referenced_widgets": [
            "b973b842bde94943b119e1640a7a9d78",
            "84fffe48c27e4dffa8288483673952b6",
            "3561e45bd9e241c48f227c7941ddf08c",
            "e9490b77b49c4e309a6b5cba3c75344f",
            "c5c82e90b17840c19653c2618e52776b",
            "c714979beb4346868d604d80a6dd54eb",
            "36d4b2401d5440d58f79ee05b57b5d0a",
            "18c5917a48d14a1cac35ec376fb4e475",
            "a1cd1c6c2b9a41908bad45fbd678b9ef",
            "01259f754ac5491aa9da123ea952c824",
            "bf0117a7239a4e0b9aeee02ad0e7a95e"
          ]
        },
        "outputId": "76f8363d-5789-49d6-f414-98d800c794ec"
      },
      "execution_count": null,
      "outputs": [
        {
          "output_type": "stream",
          "name": "stderr",
          "text": [
            "/usr/local/lib/python3.11/dist-packages/huggingface_hub/utils/_auth.py:94: UserWarning: \n",
            "The secret `HF_TOKEN` does not exist in your Colab secrets.\n",
            "To authenticate with the Hugging Face Hub, create a token in your settings tab (https://huggingface.co/settings/tokens), set it as secret in your Google Colab and restart your session.\n",
            "You will be able to reuse this secret in all of your notebooks.\n",
            "Please note that authentication is recommended but still optional to access public models or datasets.\n",
            "  warnings.warn(\n"
          ]
        },
        {
          "output_type": "display_data",
          "data": {
            "text/plain": [
              "model.safetensors:   0%|          | 0.00/346M [00:00<?, ?B/s]"
            ],
            "application/vnd.jupyter.widget-view+json": {
              "version_major": 2,
              "version_minor": 0,
              "model_id": "b973b842bde94943b119e1640a7a9d78"
            }
          },
          "metadata": {}
        },
        {
          "output_type": "stream",
          "name": "stderr",
          "text": [
            "/usr/local/lib/python3.11/dist-packages/torch/nn/modules/transformer.py:385: UserWarning: enable_nested_tensor is True, but self.use_nested_tensor is False because encoder_layer.self_attn.batch_first was not True(use batch_first for better inference performance)\n",
            "  warnings.warn(\n"
          ]
        }
      ]
    },
    {
      "cell_type": "code",
      "source": [
        "opt       = torch.optim.AdamW(\n",
        "    filter(lambda p: p.requires_grad, model.parameters()),\n",
        "    lr=1e-4, weight_decay=1e-2\n",
        ")\n",
        "loss_fn   = nn.SmoothL1Loss()\n",
        "scheduler = torch.optim.lr_scheduler.ReduceLROnPlateau(\n",
        "    opt, mode='min', factor=0.5, patience=3, verbose=True\n",
        ")"
      ],
      "metadata": {
        "id": "8qpkrASL8FqM",
        "colab": {
          "base_uri": "https://localhost:8080/"
        },
        "outputId": "54428aea-c2d7-42b6-fefb-c9eba736e8ba"
      },
      "execution_count": null,
      "outputs": [
        {
          "output_type": "stream",
          "name": "stderr",
          "text": [
            "/usr/local/lib/python3.11/dist-packages/torch/optim/lr_scheduler.py:62: UserWarning: The verbose parameter is deprecated. Please use get_last_lr() to access the learning rate.\n",
            "  warnings.warn(\n"
          ]
        }
      ]
    },
    {
      "cell_type": "code",
      "source": [
        "from tqdm import tqdm\n",
        "import os\n",
        "from pathlib import Path\n",
        "import torch\n",
        "\n",
        "# Create a directory on your Drive for checkpoints\n",
        "save_dir = Path(\"/content/drive/MyDrive/ModelCheckpoints\")\n",
        "save_dir.mkdir(parents=True, exist_ok=True)\n",
        "\n",
        "num_epochs = 10\n",
        "start_ep   = 0  # or pick up from a checkpoint\n",
        "\n",
        "for epoch in range(start_ep, num_epochs):\n",
        "    # — Train —\n",
        "    model.train()\n",
        "    train_loss   = 0.0\n",
        "    seen_samples = 0\n",
        "    train_bar    = tqdm(train_loader, desc=f\"Epoch {epoch+1:02d} Train\")\n",
        "    for imgs, weather, tgt in train_bar:\n",
        "        imgs, weather, tgt = imgs.to(device), weather.to(device), tgt.to(device)\n",
        "\n",
        "        opt.zero_grad()\n",
        "        out  = model(imgs, weather)\n",
        "        loss = loss_fn(out, tgt)\n",
        "        loss.backward()\n",
        "        torch.nn.utils.clip_grad_norm_(model.parameters(), 1.0)\n",
        "        opt.step()\n",
        "\n",
        "        batch_val     = loss.item()\n",
        "        n             = imgs.size(0)\n",
        "        train_loss   += batch_val * n\n",
        "        seen_samples += n\n",
        "        avg_train     = train_loss / seen_samples\n",
        "\n",
        "        train_bar.set_postfix(\n",
        "            batch_loss=f\"{batch_val:.4f}\",\n",
        "            avg_loss  =f\"{avg_train:.4f}\"\n",
        "        )\n",
        "\n",
        "    train_rmse = (train_loss / len(train_loader.dataset))**0.5\n",
        "\n",
        "    # — Validate —\n",
        "    model.eval()\n",
        "    val_loss = 0.0\n",
        "    seen_val = 0\n",
        "    val_bar  = tqdm(val_loader, desc=f\"Epoch {epoch+1:02d}   Val \")\n",
        "    with torch.no_grad():\n",
        "        for imgs, weather, tgt in val_bar:\n",
        "            imgs, weather, tgt = imgs.to(device), weather.to(device), tgt.to(device)\n",
        "            out       = model(imgs, weather)\n",
        "            batch_val = loss_fn(out, tgt).item()\n",
        "            n         = imgs.size(0)\n",
        "            val_loss += batch_val * n\n",
        "            seen_val += n\n",
        "            avg_val   = val_loss / seen_val\n",
        "\n",
        "            val_bar.set_postfix(\n",
        "                batch_loss=f\"{batch_val:.4f}\",\n",
        "                avg_loss  =f\"{avg_val:.4f}\"\n",
        "            )\n",
        "\n",
        "    val_rmse = (val_loss / len(val_loader.dataset))**0.5\n",
        "\n",
        "    # Step the scheduler\n",
        "    scheduler.step(val_loss)\n",
        "\n",
        "    # Print metrics\n",
        "    print(f\"Epoch {epoch+1:02d} ▶ Train RMSE: {train_rmse:.3f} | Val RMSE: {val_rmse:.3f}\")\n",
        "\n",
        "    # — Save checkpoint —\n",
        "    ckpt_path = save_dir / f\"cnn_mlp_epoch{epoch+1:02d}.pt\"\n",
        "    torch.save({\n",
        "        'epoch': epoch+1,\n",
        "        'model_state_dict': model.state_dict(),\n",
        "        'optimizer_state_dict': opt.state_dict(),\n",
        "        'train_rmse': train_rmse,\n",
        "        'val_rmse': val_rmse\n",
        "    }, ckpt_path)\n",
        "    print(f\"✅ Saved checkpoint: {ckpt_path}\")\n",
        "\n",
        "print(\"✅ Training finished\")\n"
      ],
      "metadata": {
        "id": "YZgxWwcH8JN1",
        "colab": {
          "base_uri": "https://localhost:8080/"
        },
        "outputId": "ae2d9956-dc4d-4c41-c7dd-24b43d246aef"
      },
      "execution_count": null,
      "outputs": [
        {
          "output_type": "stream",
          "name": "stderr",
          "text": [
            "Epoch 01 Train: 100%|██████████| 2858/2858 [1:37:02<00:00,  2.04s/it, avg_loss=1.4960, batch_loss=1.1200]\n",
            "Epoch 01   Val : 100%|██████████| 715/715 [22:24<00:00,  1.88s/it, avg_loss=0.6518, batch_loss=0.6657]\n"
          ]
        },
        {
          "output_type": "stream",
          "name": "stdout",
          "text": [
            "Epoch 01 ▶ Train RMSE: 1.223 | Val RMSE: 0.807\n",
            "✅ Saved checkpoint: /content/drive/MyDrive/ModelCheckpoints/cnn_mlp_epoch01.pt\n"
          ]
        },
        {
          "output_type": "stream",
          "name": "stderr",
          "text": [
            "Epoch 02 Train: 100%|██████████| 2858/2858 [08:06<00:00,  5.87it/s, avg_loss=0.5169, batch_loss=0.2031]\n",
            "Epoch 02   Val : 100%|██████████| 715/715 [00:54<00:00, 13.12it/s, avg_loss=0.3477, batch_loss=0.2042]\n"
          ]
        },
        {
          "output_type": "stream",
          "name": "stdout",
          "text": [
            "Epoch 02 ▶ Train RMSE: 0.719 | Val RMSE: 0.590\n",
            "✅ Saved checkpoint: /content/drive/MyDrive/ModelCheckpoints/cnn_mlp_epoch02.pt\n"
          ]
        },
        {
          "output_type": "stream",
          "name": "stderr",
          "text": [
            "Epoch 03 Train: 100%|██████████| 2858/2858 [08:06<00:00,  5.88it/s, avg_loss=0.3360, batch_loss=0.2114]\n",
            "Epoch 03   Val : 100%|██████████| 715/715 [00:55<00:00, 12.86it/s, avg_loss=0.1722, batch_loss=0.0814]\n"
          ]
        },
        {
          "output_type": "stream",
          "name": "stdout",
          "text": [
            "Epoch 03 ▶ Train RMSE: 0.580 | Val RMSE: 0.415\n",
            "✅ Saved checkpoint: /content/drive/MyDrive/ModelCheckpoints/cnn_mlp_epoch03.pt\n"
          ]
        },
        {
          "output_type": "stream",
          "name": "stderr",
          "text": [
            "Epoch 04 Train: 100%|██████████| 2858/2858 [08:04<00:00,  5.90it/s, avg_loss=0.2636, batch_loss=0.2214]\n",
            "Epoch 04   Val : 100%|██████████| 715/715 [00:54<00:00, 13.11it/s, avg_loss=0.2124, batch_loss=0.0626]\n"
          ]
        },
        {
          "output_type": "stream",
          "name": "stdout",
          "text": [
            "Epoch 04 ▶ Train RMSE: 0.513 | Val RMSE: 0.461\n",
            "✅ Saved checkpoint: /content/drive/MyDrive/ModelCheckpoints/cnn_mlp_epoch04.pt\n"
          ]
        },
        {
          "output_type": "stream",
          "name": "stderr",
          "text": [
            "Epoch 05 Train: 100%|██████████| 2858/2858 [08:04<00:00,  5.90it/s, avg_loss=0.2217, batch_loss=0.0420]\n",
            "Epoch 05   Val : 100%|██████████| 715/715 [00:54<00:00, 13.12it/s, avg_loss=0.2825, batch_loss=0.1147]\n"
          ]
        },
        {
          "output_type": "stream",
          "name": "stdout",
          "text": [
            "Epoch 05 ▶ Train RMSE: 0.471 | Val RMSE: 0.532\n",
            "✅ Saved checkpoint: /content/drive/MyDrive/ModelCheckpoints/cnn_mlp_epoch05.pt\n"
          ]
        },
        {
          "output_type": "stream",
          "name": "stderr",
          "text": [
            "Epoch 06 Train: 100%|██████████| 2858/2858 [08:03<00:00,  5.91it/s, avg_loss=0.1837, batch_loss=0.0439]\n",
            "Epoch 06   Val : 100%|██████████| 715/715 [00:54<00:00, 13.12it/s, avg_loss=0.1789, batch_loss=0.1157]\n"
          ]
        },
        {
          "output_type": "stream",
          "name": "stdout",
          "text": [
            "Epoch 06 ▶ Train RMSE: 0.429 | Val RMSE: 0.423\n",
            "✅ Saved checkpoint: /content/drive/MyDrive/ModelCheckpoints/cnn_mlp_epoch06.pt\n"
          ]
        },
        {
          "output_type": "stream",
          "name": "stderr",
          "text": [
            "Epoch 07 Train: 100%|██████████| 2858/2858 [08:05<00:00,  5.88it/s, avg_loss=0.1625, batch_loss=0.1841]\n",
            "Epoch 07   Val : 100%|██████████| 715/715 [00:54<00:00, 13.04it/s, avg_loss=0.1573, batch_loss=0.0425]\n"
          ]
        },
        {
          "output_type": "stream",
          "name": "stdout",
          "text": [
            "Epoch 07 ▶ Train RMSE: 0.403 | Val RMSE: 0.397\n",
            "✅ Saved checkpoint: /content/drive/MyDrive/ModelCheckpoints/cnn_mlp_epoch07.pt\n"
          ]
        },
        {
          "output_type": "stream",
          "name": "stderr",
          "text": [
            "Epoch 08 Train: 100%|██████████| 2858/2858 [08:05<00:00,  5.89it/s, avg_loss=0.1478, batch_loss=0.2889]\n",
            "Epoch 08   Val : 100%|██████████| 715/715 [00:54<00:00, 13.03it/s, avg_loss=0.1542, batch_loss=0.0649]\n"
          ]
        },
        {
          "output_type": "stream",
          "name": "stdout",
          "text": [
            "Epoch 08 ▶ Train RMSE: 0.384 | Val RMSE: 0.393\n",
            "✅ Saved checkpoint: /content/drive/MyDrive/ModelCheckpoints/cnn_mlp_epoch08.pt\n"
          ]
        },
        {
          "output_type": "stream",
          "name": "stderr",
          "text": [
            "Epoch 09 Train: 100%|██████████| 2858/2858 [08:02<00:00,  5.92it/s, avg_loss=0.1350, batch_loss=0.2004]\n",
            "Epoch 09   Val : 100%|██████████| 715/715 [00:54<00:00, 13.17it/s, avg_loss=0.1383, batch_loss=0.0717]\n"
          ]
        },
        {
          "output_type": "stream",
          "name": "stdout",
          "text": [
            "Epoch 09 ▶ Train RMSE: 0.367 | Val RMSE: 0.372\n",
            "✅ Saved checkpoint: /content/drive/MyDrive/ModelCheckpoints/cnn_mlp_epoch09.pt\n"
          ]
        },
        {
          "output_type": "stream",
          "name": "stderr",
          "text": [
            "Epoch 10 Train: 100%|██████████| 2858/2858 [08:02<00:00,  5.92it/s, avg_loss=0.1504, batch_loss=0.3031]\n",
            "Epoch 10   Val : 100%|██████████| 715/715 [00:54<00:00, 13.19it/s, avg_loss=0.2178, batch_loss=0.1156]\n"
          ]
        },
        {
          "output_type": "stream",
          "name": "stdout",
          "text": [
            "Epoch 10 ▶ Train RMSE: 0.388 | Val RMSE: 0.467\n",
            "✅ Saved checkpoint: /content/drive/MyDrive/ModelCheckpoints/cnn_mlp_epoch10.pt\n",
            "✅ Training finished\n"
          ]
        }
      ]
    },
    {
      "cell_type": "code",
      "source": [
        "!find /content -type f -name \"*checkpoint*\" -print\n"
      ],
      "metadata": {
        "id": "IFbTZWtm2Clc"
      },
      "execution_count": null,
      "outputs": []
    }
  ]
}