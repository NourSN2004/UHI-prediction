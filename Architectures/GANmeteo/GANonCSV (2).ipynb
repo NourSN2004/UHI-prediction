{
  "nbformat": 4,
  "nbformat_minor": 0,
  "metadata": {
    "colab": {
      "provenance": [],
      "gpuType": "T4"
    },
    "kernelspec": {
      "name": "python3",
      "display_name": "Python 3"
    },
    "language_info": {
      "name": "python"
    },
    "accelerator": "GPU"
  },
  "cells": [
    {
      "cell_type": "code",
      "source": [
        "from google.colab import drive\n",
        "drive.mount('/content/drive')"
      ],
      "metadata": {
        "id": "WD0-RT85fQX9",
        "colab": {
          "base_uri": "https://localhost:8080/"
        },
        "outputId": "289372b2-8804-4fd1-d8ab-2d4947205ac2"
      },
      "execution_count": null,
      "outputs": [
        {
          "output_type": "stream",
          "name": "stdout",
          "text": [
            "Mounted at /content/drive\n"
          ]
        }
      ]
    },
    {
      "cell_type": "code",
      "source": [
        "from google.colab import drive\n",
        "drive.mount('/content/drive')\n",
        "\n",
        "import os\n",
        "import pandas as pd\n",
        "import torch\n",
        "import torch.nn as nn\n",
        "import torch.optim as optim\n",
        "from torch.utils.data import DataLoader, TensorDataset\n"
      ],
      "metadata": {
        "colab": {
          "base_uri": "https://localhost:8080/"
        },
        "id": "QT3LfxDigLiV",
        "outputId": "80646eb2-e76b-4aba-bcf0-211f109171cf"
      },
      "execution_count": null,
      "outputs": [
        {
          "output_type": "stream",
          "name": "stdout",
          "text": [
            "Drive already mounted at /content/drive; to attempt to forcibly remount, call drive.mount(\"/content/drive\", force_remount=True).\n"
          ]
        }
      ]
    },
    {
      "cell_type": "code",
      "source": [
        "# Adjust this if your path differs\n",
        "csv_path = \"/content/drive/MyDrive/PatchedOutput/tiff_with_meteo.csv\"\n",
        "\n",
        "df = pd.read_csv(csv_path)\n",
        "print(\"Columns in CSV:\\n\", df.columns.tolist())\n"
      ],
      "metadata": {
        "colab": {
          "base_uri": "https://localhost:8080/"
        },
        "id": "U18cjWLGgNV4",
        "outputId": "933abe48-00b1-46e1-ba2f-84f93a330957"
      },
      "execution_count": null,
      "outputs": [
        {
          "output_type": "stream",
          "name": "stdout",
          "text": [
            "Columns in CSV:\n",
            " ['filename', 'date', 'datetime', 'air_temp_C', 'dew_point_C', 'relative_humidity_percent', 'wind_speed_m_s', 'precipitation_in']\n"
          ]
        }
      ]
    },
    {
      "cell_type": "code",
      "source": [
        "# Exact meteorological columns from your CSV:\n",
        "weather_cols = [\n",
        "    \"air_temp_C\",\n",
        "    \"dew_point_C\",\n",
        "    \"relative_humidity_percent\",\n",
        "    \"wind_speed_m_s\",\n",
        "    \"precipitation_in\"\n",
        "]\n",
        "\n",
        "# Load and clean\n",
        "df = pd.read_csv(csv_path)\n",
        "for col in weather_cols:\n",
        "    df[col] = pd.to_numeric(df[col], errors=\"coerce\")\n",
        "df = df.dropna(subset=weather_cols).reset_index(drop=True)\n",
        "\n",
        "# Build TensorDataset\n",
        "weather_tensor = torch.tensor(df[weather_cols].values, dtype=torch.float32)\n",
        "dataset        = TensorDataset(weather_tensor)\n",
        "loader         = DataLoader(dataset, batch_size=64, shuffle=True)\n"
      ],
      "metadata": {
        "id": "B6PPT6uNdJa7"
      },
      "execution_count": null,
      "outputs": []
    },
    {
      "cell_type": "code",
      "source": [
        "Z_DIM  = 16                     # size of latent noise\n",
        "DIMS   = len(weather_cols)      # number of features = 5\n",
        "HIDDEN = 64                     # hidden layer size\n",
        "\n",
        "class WeatherGenerator(nn.Module):\n",
        "    def __init__(self):\n",
        "        super().__init__()\n",
        "        self.net = nn.Sequential(\n",
        "            nn.Linear(Z_DIM,  HIDDEN),\n",
        "            nn.ReLU(True),\n",
        "            nn.Linear(HIDDEN, HIDDEN),\n",
        "            nn.ReLU(True),\n",
        "            nn.Linear(HIDDEN, DIMS),\n",
        "        )\n",
        "    def forward(self, z):\n",
        "        return self.net(z)\n",
        "\n",
        "class WeatherDiscriminator(nn.Module):\n",
        "    def __init__(self):\n",
        "        super().__init__()\n",
        "        self.net = nn.Sequential(\n",
        "            nn.Linear(DIMS,   HIDDEN),\n",
        "            nn.LeakyReLU(0.2, True),\n",
        "            nn.Linear(HIDDEN, HIDDEN),\n",
        "            nn.LeakyReLU(0.2, True),\n",
        "            nn.Linear(HIDDEN, 1),\n",
        "        )\n",
        "    def forward(self, x):\n",
        "        return self.net(x).view(-1)\n",
        "\n",
        "device = torch.device(\"cuda\" if torch.cuda.is_available() else \"cpu\")\n",
        "G = WeatherGenerator().to(device)\n",
        "D = WeatherDiscriminator().to(device)\n"
      ],
      "metadata": {
        "id": "p1RoHCDhdU2g"
      },
      "execution_count": null,
      "outputs": []
    },
    {
      "cell_type": "code",
      "source": [
        "opt_G = optim.Adam(G.parameters(), lr=2e-4, betas=(0.5,0.999))\n",
        "opt_D = optim.Adam(D.parameters(), lr=2e-4, betas=(0.5,0.999))\n",
        "bce   = nn.BCEWithLogitsLoss()\n"
      ],
      "metadata": {
        "id": "cGRONF57clYn"
      },
      "execution_count": null,
      "outputs": []
    },
    {
      "cell_type": "code",
      "source": [
        "EPOCHS = 250\n",
        "\n",
        "for epoch in range(1, EPOCHS+1):\n",
        "    for (real_vec,) in loader:\n",
        "        real_vec = real_vec.to(device)\n",
        "        bs       = real_vec.size(0)\n",
        "\n",
        "        # — Discriminator step —\n",
        "        noise    = torch.randn(bs, Z_DIM, device=device)\n",
        "        fake_vec = G(noise).detach()\n",
        "        d_real   = D(real_vec)\n",
        "        d_fake   = D(fake_vec)\n",
        "        d_loss   = 0.5*(bce(d_real, torch.ones(bs,device=device)) +\n",
        "                       bce(d_fake, torch.zeros(bs,device=device)))\n",
        "        opt_D.zero_grad(); d_loss.backward(); opt_D.step()\n",
        "\n",
        "        # — Generator step —\n",
        "        noise   = torch.randn(bs, Z_DIM, device=device)\n",
        "        fake    = G(noise)\n",
        "        g_loss  = bce(D(fake), torch.ones(bs,device=device))\n",
        "        opt_G.zero_grad(); g_loss.backward(); opt_G.step()\n",
        "\n",
        "    if epoch % 10 == 0:\n",
        "        print(f\"Epoch {epoch:03d} | D_loss: {d_loss:.4f} | G_loss: {g_loss:.4f}\")\n"
      ],
      "metadata": {
        "colab": {
          "base_uri": "https://localhost:8080/"
        },
        "id": "3dt89FT9gajC",
        "outputId": "4b89cc4b-0902-425d-b941-1873ba76c2d8"
      },
      "execution_count": null,
      "outputs": [
        {
          "output_type": "stream",
          "name": "stdout",
          "text": [
            "Epoch 010 | D_loss: 0.6676 | G_loss: 0.7477\n",
            "Epoch 020 | D_loss: 0.6246 | G_loss: 0.7290\n",
            "Epoch 030 | D_loss: 0.7021 | G_loss: 0.6133\n",
            "Epoch 040 | D_loss: 0.7037 | G_loss: 0.7800\n",
            "Epoch 050 | D_loss: 0.6826 | G_loss: 0.8460\n",
            "Epoch 060 | D_loss: 0.6576 | G_loss: 0.6334\n",
            "Epoch 070 | D_loss: 0.6749 | G_loss: 0.8861\n",
            "Epoch 080 | D_loss: 0.6473 | G_loss: 0.9656\n",
            "Epoch 090 | D_loss: 0.6747 | G_loss: 0.7491\n",
            "Epoch 100 | D_loss: 0.6949 | G_loss: 0.6976\n",
            "Epoch 110 | D_loss: 0.7235 | G_loss: 0.5369\n",
            "Epoch 120 | D_loss: 0.7030 | G_loss: 0.9899\n",
            "Epoch 130 | D_loss: 0.6331 | G_loss: 0.7676\n",
            "Epoch 140 | D_loss: 0.6439 | G_loss: 0.6441\n",
            "Epoch 150 | D_loss: 0.6584 | G_loss: 0.5584\n",
            "Epoch 160 | D_loss: 0.6753 | G_loss: 0.8507\n",
            "Epoch 170 | D_loss: 0.6442 | G_loss: 0.8793\n",
            "Epoch 180 | D_loss: 0.6398 | G_loss: 0.7341\n",
            "Epoch 190 | D_loss: 0.6234 | G_loss: 0.5519\n",
            "Epoch 200 | D_loss: 0.6322 | G_loss: 0.8164\n",
            "Epoch 210 | D_loss: 0.6812 | G_loss: 0.5948\n",
            "Epoch 220 | D_loss: 0.6521 | G_loss: 0.7549\n",
            "Epoch 230 | D_loss: 0.6151 | G_loss: 0.9914\n",
            "Epoch 240 | D_loss: 0.6677 | G_loss: 0.8611\n",
            "Epoch 250 | D_loss: 0.6474 | G_loss: 0.8766\n"
          ]
        }
      ]
    },
    {
      "cell_type": "code",
      "source": [
        "torch.save(G.state_dict(), \"/content/drive/MyDrive/weather_generator.pth\")\n",
        "torch.save(D.state_dict(), \"/content/drive/MyDrive/weather_discriminator.pth\")\n"
      ],
      "metadata": {
        "id": "jk11ylBUggo0"
      },
      "execution_count": null,
      "outputs": []
    },
    {
      "cell_type": "code",
      "source": [
        "# === Cell N+1: plot & save GAN loss curves ===\n",
        "import matplotlib.pyplot as plt\n",
        "\n",
        "# Convert any torch tensors to floats\n",
        "d_vals = [dl.cpu().item() if hasattr(dl, 'cpu') else float(dl) for dl in d_loss]\n",
        "g_vals = [gl.cpu().item() if hasattr(gl, 'cpu') else float(gl) for gl in g_loss]\n",
        "\n",
        "# x-axis ticks every 10 epochs\n",
        "epochs = list(range(10, EPOCHS + 1, 10))\n",
        "\n",
        "plt.figure(figsize=(8,5))\n",
        "plt.plot(epochs, d_vals, label='Discriminator Loss')\n",
        "plt.plot(epochs, g_vals, label='Generator Loss')\n",
        "plt.xlabel('Epoch')\n",
        "plt.ylabel('Loss')\n",
        "plt.title('GAN Loss Curves')\n",
        "plt.legend(loc='best')\n",
        "\n",
        "# Save to PNG\n",
        "plt.savefig('/content/drive/MyDrive/gan_loss_curves.png', dpi=300, bbox_inches='tight')\n",
        "plt.show()\n"
      ],
      "metadata": {
        "colab": {
          "base_uri": "https://localhost:8080/",
          "height": 332
        },
        "id": "yoXVaPwdrH3z",
        "outputId": "1957c45b-649d-4ac7-9982-ea72e0043e11"
      },
      "execution_count": null,
      "outputs": [
        {
          "output_type": "error",
          "ename": "TypeError",
          "evalue": "iteration over a 0-d tensor",
          "traceback": [
            "\u001b[0;31m---------------------------------------------------------------------------\u001b[0m",
            "\u001b[0;31mTypeError\u001b[0m                                 Traceback (most recent call last)",
            "\u001b[0;32m<ipython-input-14-5b88ec85b15e>\u001b[0m in \u001b[0;36m<cell line: 0>\u001b[0;34m()\u001b[0m\n\u001b[1;32m      3\u001b[0m \u001b[0;34m\u001b[0m\u001b[0m\n\u001b[1;32m      4\u001b[0m \u001b[0;31m# Convert any torch tensors to floats\u001b[0m\u001b[0;34m\u001b[0m\u001b[0;34m\u001b[0m\u001b[0m\n\u001b[0;32m----> 5\u001b[0;31m \u001b[0md_vals\u001b[0m \u001b[0;34m=\u001b[0m \u001b[0;34m[\u001b[0m\u001b[0mdl\u001b[0m\u001b[0;34m.\u001b[0m\u001b[0mcpu\u001b[0m\u001b[0;34m(\u001b[0m\u001b[0;34m)\u001b[0m\u001b[0;34m.\u001b[0m\u001b[0mitem\u001b[0m\u001b[0;34m(\u001b[0m\u001b[0;34m)\u001b[0m \u001b[0;32mif\u001b[0m \u001b[0mhasattr\u001b[0m\u001b[0;34m(\u001b[0m\u001b[0mdl\u001b[0m\u001b[0;34m,\u001b[0m \u001b[0;34m'cpu'\u001b[0m\u001b[0;34m)\u001b[0m \u001b[0;32melse\u001b[0m \u001b[0mfloat\u001b[0m\u001b[0;34m(\u001b[0m\u001b[0mdl\u001b[0m\u001b[0;34m)\u001b[0m \u001b[0;32mfor\u001b[0m \u001b[0mdl\u001b[0m \u001b[0;32min\u001b[0m \u001b[0md_loss\u001b[0m\u001b[0;34m]\u001b[0m\u001b[0;34m\u001b[0m\u001b[0;34m\u001b[0m\u001b[0m\n\u001b[0m\u001b[1;32m      6\u001b[0m \u001b[0mg_vals\u001b[0m \u001b[0;34m=\u001b[0m \u001b[0;34m[\u001b[0m\u001b[0mgl\u001b[0m\u001b[0;34m.\u001b[0m\u001b[0mcpu\u001b[0m\u001b[0;34m(\u001b[0m\u001b[0;34m)\u001b[0m\u001b[0;34m.\u001b[0m\u001b[0mitem\u001b[0m\u001b[0;34m(\u001b[0m\u001b[0;34m)\u001b[0m \u001b[0;32mif\u001b[0m \u001b[0mhasattr\u001b[0m\u001b[0;34m(\u001b[0m\u001b[0mgl\u001b[0m\u001b[0;34m,\u001b[0m \u001b[0;34m'cpu'\u001b[0m\u001b[0;34m)\u001b[0m \u001b[0;32melse\u001b[0m \u001b[0mfloat\u001b[0m\u001b[0;34m(\u001b[0m\u001b[0mgl\u001b[0m\u001b[0;34m)\u001b[0m \u001b[0;32mfor\u001b[0m \u001b[0mgl\u001b[0m \u001b[0;32min\u001b[0m \u001b[0mg_loss\u001b[0m\u001b[0;34m]\u001b[0m\u001b[0;34m\u001b[0m\u001b[0;34m\u001b[0m\u001b[0m\n\u001b[1;32m      7\u001b[0m \u001b[0;34m\u001b[0m\u001b[0m\n",
            "\u001b[0;32m/usr/local/lib/python3.11/dist-packages/torch/_tensor.py\u001b[0m in \u001b[0;36m__iter__\u001b[0;34m(self)\u001b[0m\n\u001b[1;32m   1152\u001b[0m         \u001b[0;31m# See gh-54457\u001b[0m\u001b[0;34m\u001b[0m\u001b[0;34m\u001b[0m\u001b[0m\n\u001b[1;32m   1153\u001b[0m         \u001b[0;32mif\u001b[0m \u001b[0mself\u001b[0m\u001b[0;34m.\u001b[0m\u001b[0mdim\u001b[0m\u001b[0;34m(\u001b[0m\u001b[0;34m)\u001b[0m \u001b[0;34m==\u001b[0m \u001b[0;36m0\u001b[0m\u001b[0;34m:\u001b[0m\u001b[0;34m\u001b[0m\u001b[0;34m\u001b[0m\u001b[0m\n\u001b[0;32m-> 1154\u001b[0;31m             \u001b[0;32mraise\u001b[0m \u001b[0mTypeError\u001b[0m\u001b[0;34m(\u001b[0m\u001b[0;34m\"iteration over a 0-d tensor\"\u001b[0m\u001b[0;34m)\u001b[0m\u001b[0;34m\u001b[0m\u001b[0;34m\u001b[0m\u001b[0m\n\u001b[0m\u001b[1;32m   1155\u001b[0m         \u001b[0;32mif\u001b[0m \u001b[0mtorch\u001b[0m\u001b[0;34m.\u001b[0m\u001b[0m_C\u001b[0m\u001b[0;34m.\u001b[0m\u001b[0m_get_tracing_state\u001b[0m\u001b[0;34m(\u001b[0m\u001b[0;34m)\u001b[0m\u001b[0;34m:\u001b[0m\u001b[0;34m\u001b[0m\u001b[0;34m\u001b[0m\u001b[0m\n\u001b[1;32m   1156\u001b[0m             warnings.warn(\n",
            "\u001b[0;31mTypeError\u001b[0m: iteration over a 0-d tensor"
          ]
        }
      ]
    }
  ]
}