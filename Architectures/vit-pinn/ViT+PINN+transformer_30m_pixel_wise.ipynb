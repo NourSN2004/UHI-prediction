{
  "nbformat": 4,
  "nbformat_minor": 0,
  "metadata": {
    "colab": {
      "provenance": [],
      "gpuType": "A100",
      "machine_shape": "hm"
    },
    "kernelspec": {
      "name": "python3",
      "display_name": "Python 3"
    },
    "language_info": {
      "name": "python"
    },
    "accelerator": "GPU",
    "widgets": {
      "application/vnd.jupyter.widget-state+json": {
        "1aac3e7fef7a4c248eab24613365daff": {
          "model_module": "@jupyter-widgets/controls",
          "model_name": "HBoxModel",
          "model_module_version": "1.5.0",
          "state": {
            "_dom_classes": [],
            "_model_module": "@jupyter-widgets/controls",
            "_model_module_version": "1.5.0",
            "_model_name": "HBoxModel",
            "_view_count": null,
            "_view_module": "@jupyter-widgets/controls",
            "_view_module_version": "1.5.0",
            "_view_name": "HBoxView",
            "box_style": "",
            "children": [
              "IPY_MODEL_1f5ebb2cef4147a6b53c9b3a09f6def2",
              "IPY_MODEL_be66879d886a49d988f67aee674b4c6b",
              "IPY_MODEL_5c3197829e844082a785687ced059c8b"
            ],
            "layout": "IPY_MODEL_526391fb09f641a28513789d71d5040e"
          }
        },
        "1f5ebb2cef4147a6b53c9b3a09f6def2": {
          "model_module": "@jupyter-widgets/controls",
          "model_name": "HTMLModel",
          "model_module_version": "1.5.0",
          "state": {
            "_dom_classes": [],
            "_model_module": "@jupyter-widgets/controls",
            "_model_module_version": "1.5.0",
            "_model_name": "HTMLModel",
            "_view_count": null,
            "_view_module": "@jupyter-widgets/controls",
            "_view_module_version": "1.5.0",
            "_view_name": "HTMLView",
            "description": "",
            "description_tooltip": null,
            "layout": "IPY_MODEL_5288681de9d245e0b43eb9235a79b1b9",
            "placeholder": "​",
            "style": "IPY_MODEL_61ff708f8d494c399744aebba44583f0",
            "value": "model.safetensors: 100%"
          }
        },
        "be66879d886a49d988f67aee674b4c6b": {
          "model_module": "@jupyter-widgets/controls",
          "model_name": "FloatProgressModel",
          "model_module_version": "1.5.0",
          "state": {
            "_dom_classes": [],
            "_model_module": "@jupyter-widgets/controls",
            "_model_module_version": "1.5.0",
            "_model_name": "FloatProgressModel",
            "_view_count": null,
            "_view_module": "@jupyter-widgets/controls",
            "_view_module_version": "1.5.0",
            "_view_name": "ProgressView",
            "bar_style": "success",
            "description": "",
            "description_tooltip": null,
            "layout": "IPY_MODEL_83e24c5d8a974a4092ac5290be3ca4a1",
            "max": 346284714,
            "min": 0,
            "orientation": "horizontal",
            "style": "IPY_MODEL_56a108aadf944e859eea0cf876048641",
            "value": 346284714
          }
        },
        "5c3197829e844082a785687ced059c8b": {
          "model_module": "@jupyter-widgets/controls",
          "model_name": "HTMLModel",
          "model_module_version": "1.5.0",
          "state": {
            "_dom_classes": [],
            "_model_module": "@jupyter-widgets/controls",
            "_model_module_version": "1.5.0",
            "_model_name": "HTMLModel",
            "_view_count": null,
            "_view_module": "@jupyter-widgets/controls",
            "_view_module_version": "1.5.0",
            "_view_name": "HTMLView",
            "description": "",
            "description_tooltip": null,
            "layout": "IPY_MODEL_aca50d317ed54d4fa27cc6c02e08d11e",
            "placeholder": "​",
            "style": "IPY_MODEL_6d58dfbf5bbb4af6a95c4ee5f4e72f7c",
            "value": " 346M/346M [00:01&lt;00:00, 273MB/s]"
          }
        },
        "526391fb09f641a28513789d71d5040e": {
          "model_module": "@jupyter-widgets/base",
          "model_name": "LayoutModel",
          "model_module_version": "1.2.0",
          "state": {
            "_model_module": "@jupyter-widgets/base",
            "_model_module_version": "1.2.0",
            "_model_name": "LayoutModel",
            "_view_count": null,
            "_view_module": "@jupyter-widgets/base",
            "_view_module_version": "1.2.0",
            "_view_name": "LayoutView",
            "align_content": null,
            "align_items": null,
            "align_self": null,
            "border": null,
            "bottom": null,
            "display": null,
            "flex": null,
            "flex_flow": null,
            "grid_area": null,
            "grid_auto_columns": null,
            "grid_auto_flow": null,
            "grid_auto_rows": null,
            "grid_column": null,
            "grid_gap": null,
            "grid_row": null,
            "grid_template_areas": null,
            "grid_template_columns": null,
            "grid_template_rows": null,
            "height": null,
            "justify_content": null,
            "justify_items": null,
            "left": null,
            "margin": null,
            "max_height": null,
            "max_width": null,
            "min_height": null,
            "min_width": null,
            "object_fit": null,
            "object_position": null,
            "order": null,
            "overflow": null,
            "overflow_x": null,
            "overflow_y": null,
            "padding": null,
            "right": null,
            "top": null,
            "visibility": null,
            "width": null
          }
        },
        "5288681de9d245e0b43eb9235a79b1b9": {
          "model_module": "@jupyter-widgets/base",
          "model_name": "LayoutModel",
          "model_module_version": "1.2.0",
          "state": {
            "_model_module": "@jupyter-widgets/base",
            "_model_module_version": "1.2.0",
            "_model_name": "LayoutModel",
            "_view_count": null,
            "_view_module": "@jupyter-widgets/base",
            "_view_module_version": "1.2.0",
            "_view_name": "LayoutView",
            "align_content": null,
            "align_items": null,
            "align_self": null,
            "border": null,
            "bottom": null,
            "display": null,
            "flex": null,
            "flex_flow": null,
            "grid_area": null,
            "grid_auto_columns": null,
            "grid_auto_flow": null,
            "grid_auto_rows": null,
            "grid_column": null,
            "grid_gap": null,
            "grid_row": null,
            "grid_template_areas": null,
            "grid_template_columns": null,
            "grid_template_rows": null,
            "height": null,
            "justify_content": null,
            "justify_items": null,
            "left": null,
            "margin": null,
            "max_height": null,
            "max_width": null,
            "min_height": null,
            "min_width": null,
            "object_fit": null,
            "object_position": null,
            "order": null,
            "overflow": null,
            "overflow_x": null,
            "overflow_y": null,
            "padding": null,
            "right": null,
            "top": null,
            "visibility": null,
            "width": null
          }
        },
        "61ff708f8d494c399744aebba44583f0": {
          "model_module": "@jupyter-widgets/controls",
          "model_name": "DescriptionStyleModel",
          "model_module_version": "1.5.0",
          "state": {
            "_model_module": "@jupyter-widgets/controls",
            "_model_module_version": "1.5.0",
            "_model_name": "DescriptionStyleModel",
            "_view_count": null,
            "_view_module": "@jupyter-widgets/base",
            "_view_module_version": "1.2.0",
            "_view_name": "StyleView",
            "description_width": ""
          }
        },
        "83e24c5d8a974a4092ac5290be3ca4a1": {
          "model_module": "@jupyter-widgets/base",
          "model_name": "LayoutModel",
          "model_module_version": "1.2.0",
          "state": {
            "_model_module": "@jupyter-widgets/base",
            "_model_module_version": "1.2.0",
            "_model_name": "LayoutModel",
            "_view_count": null,
            "_view_module": "@jupyter-widgets/base",
            "_view_module_version": "1.2.0",
            "_view_name": "LayoutView",
            "align_content": null,
            "align_items": null,
            "align_self": null,
            "border": null,
            "bottom": null,
            "display": null,
            "flex": null,
            "flex_flow": null,
            "grid_area": null,
            "grid_auto_columns": null,
            "grid_auto_flow": null,
            "grid_auto_rows": null,
            "grid_column": null,
            "grid_gap": null,
            "grid_row": null,
            "grid_template_areas": null,
            "grid_template_columns": null,
            "grid_template_rows": null,
            "height": null,
            "justify_content": null,
            "justify_items": null,
            "left": null,
            "margin": null,
            "max_height": null,
            "max_width": null,
            "min_height": null,
            "min_width": null,
            "object_fit": null,
            "object_position": null,
            "order": null,
            "overflow": null,
            "overflow_x": null,
            "overflow_y": null,
            "padding": null,
            "right": null,
            "top": null,
            "visibility": null,
            "width": null
          }
        },
        "56a108aadf944e859eea0cf876048641": {
          "model_module": "@jupyter-widgets/controls",
          "model_name": "ProgressStyleModel",
          "model_module_version": "1.5.0",
          "state": {
            "_model_module": "@jupyter-widgets/controls",
            "_model_module_version": "1.5.0",
            "_model_name": "ProgressStyleModel",
            "_view_count": null,
            "_view_module": "@jupyter-widgets/base",
            "_view_module_version": "1.2.0",
            "_view_name": "StyleView",
            "bar_color": null,
            "description_width": ""
          }
        },
        "aca50d317ed54d4fa27cc6c02e08d11e": {
          "model_module": "@jupyter-widgets/base",
          "model_name": "LayoutModel",
          "model_module_version": "1.2.0",
          "state": {
            "_model_module": "@jupyter-widgets/base",
            "_model_module_version": "1.2.0",
            "_model_name": "LayoutModel",
            "_view_count": null,
            "_view_module": "@jupyter-widgets/base",
            "_view_module_version": "1.2.0",
            "_view_name": "LayoutView",
            "align_content": null,
            "align_items": null,
            "align_self": null,
            "border": null,
            "bottom": null,
            "display": null,
            "flex": null,
            "flex_flow": null,
            "grid_area": null,
            "grid_auto_columns": null,
            "grid_auto_flow": null,
            "grid_auto_rows": null,
            "grid_column": null,
            "grid_gap": null,
            "grid_row": null,
            "grid_template_areas": null,
            "grid_template_columns": null,
            "grid_template_rows": null,
            "height": null,
            "justify_content": null,
            "justify_items": null,
            "left": null,
            "margin": null,
            "max_height": null,
            "max_width": null,
            "min_height": null,
            "min_width": null,
            "object_fit": null,
            "object_position": null,
            "order": null,
            "overflow": null,
            "overflow_x": null,
            "overflow_y": null,
            "padding": null,
            "right": null,
            "top": null,
            "visibility": null,
            "width": null
          }
        },
        "6d58dfbf5bbb4af6a95c4ee5f4e72f7c": {
          "model_module": "@jupyter-widgets/controls",
          "model_name": "DescriptionStyleModel",
          "model_module_version": "1.5.0",
          "state": {
            "_model_module": "@jupyter-widgets/controls",
            "_model_module_version": "1.5.0",
            "_model_name": "DescriptionStyleModel",
            "_view_count": null,
            "_view_module": "@jupyter-widgets/base",
            "_view_module_version": "1.2.0",
            "_view_name": "StyleView",
            "description_width": ""
          }
        }
      }
    }
  },
  "cells": [
    {
      "cell_type": "code",
      "source": [
        "from google.colab import drive\n",
        "drive.mount('/content/drive')"
      ],
      "metadata": {
        "colab": {
          "base_uri": "https://localhost:8080/"
        },
        "id": "wr2fG4GbepGx",
        "outputId": "58479284-0c1c-4b59-f996-d8cfa7654129"
      },
      "execution_count": null,
      "outputs": [
        {
          "output_type": "stream",
          "name": "stdout",
          "text": [
            "Mounted at /content/drive\n"
          ]
        }
      ]
    },
    {
      "cell_type": "code",
      "source": [
        "# Cell 1 ▶ Install required packages\n",
        "!pip install timm torchvision tifffile imagecodecs --quiet"
      ],
      "metadata": {
        "id": "l7tCdKlae3VI",
        "colab": {
          "base_uri": "https://localhost:8080/"
        },
        "outputId": "90511e91-3c4c-4d68-9171-dbcda72f97c2"
      },
      "execution_count": null,
      "outputs": [
        {
          "output_type": "stream",
          "name": "stdout",
          "text": [
            "\u001b[2K   \u001b[90m━━━━━━━━━━━━━━━━━━━━━━━━━━━━━━━━━━━━━━━━\u001b[0m \u001b[32m363.4/363.4 MB\u001b[0m \u001b[31m5.0 MB/s\u001b[0m eta \u001b[36m0:00:00\u001b[0m\n",
            "\u001b[2K   \u001b[90m━━━━━━━━━━━━━━━━━━━━━━━━━━━━━━━━━━━━━━━━\u001b[0m \u001b[32m13.8/13.8 MB\u001b[0m \u001b[31m127.2 MB/s\u001b[0m eta \u001b[36m0:00:00\u001b[0m\n",
            "\u001b[2K   \u001b[90m━━━━━━━━━━━━━━━━━━━━━━━━━━━━━━━━━━━━━━━━\u001b[0m \u001b[32m24.6/24.6 MB\u001b[0m \u001b[31m100.2 MB/s\u001b[0m eta \u001b[36m0:00:00\u001b[0m\n",
            "\u001b[2K   \u001b[90m━━━━━━━━━━━━━━━━━━━━━━━━━━━━━━━━━━━━━━━━\u001b[0m \u001b[32m883.7/883.7 kB\u001b[0m \u001b[31m63.0 MB/s\u001b[0m eta \u001b[36m0:00:00\u001b[0m\n",
            "\u001b[2K   \u001b[90m━━━━━━━━━━━━━━━━━━━━━━━━━━━━━━━━━━━━━━━━\u001b[0m \u001b[32m664.8/664.8 MB\u001b[0m \u001b[31m1.8 MB/s\u001b[0m eta \u001b[36m0:00:00\u001b[0m\n",
            "\u001b[2K   \u001b[90m━━━━━━━━━━━━━━━━━━━━━━━━━━━━━━━━━━━━━━━━\u001b[0m \u001b[32m211.5/211.5 MB\u001b[0m \u001b[31m11.6 MB/s\u001b[0m eta \u001b[36m0:00:00\u001b[0m\n",
            "\u001b[2K   \u001b[90m━━━━━━━━━━━━━━━━━━━━━━━━━━━━━━━━━━━━━━━━\u001b[0m \u001b[32m56.3/56.3 MB\u001b[0m \u001b[31m41.9 MB/s\u001b[0m eta \u001b[36m0:00:00\u001b[0m\n",
            "\u001b[2K   \u001b[90m━━━━━━━━━━━━━━━━━━━━━━━━━━━━━━━━━━━━━━━━\u001b[0m \u001b[32m127.9/127.9 MB\u001b[0m \u001b[31m9.3 MB/s\u001b[0m eta \u001b[36m0:00:00\u001b[0m\n",
            "\u001b[2K   \u001b[90m━━━━━━━━━━━━━━━━━━━━━━━━━━━━━━━━━━━━━━━━\u001b[0m \u001b[32m207.5/207.5 MB\u001b[0m \u001b[31m12.4 MB/s\u001b[0m eta \u001b[36m0:00:00\u001b[0m\n",
            "\u001b[2K   \u001b[90m━━━━━━━━━━━━━━━━━━━━━━━━━━━━━━━━━━━━━━━━\u001b[0m \u001b[32m21.1/21.1 MB\u001b[0m \u001b[31m110.0 MB/s\u001b[0m eta \u001b[36m0:00:00\u001b[0m\n",
            "\u001b[2K   \u001b[90m━━━━━━━━━━━━━━━━━━━━━━━━━━━━━━━━━━━━━━━━\u001b[0m \u001b[32m45.6/45.6 MB\u001b[0m \u001b[31m53.7 MB/s\u001b[0m eta \u001b[36m0:00:00\u001b[0m\n",
            "\u001b[?25h"
          ]
        }
      ]
    },
    {
      "cell_type": "code",
      "source": [
        "# Cell 2 ▶ Consolidated imports\n",
        "import os\n",
        "import math\n",
        "import time\n",
        "\n",
        "import pandas as pd\n",
        "import numpy as np\n",
        "\n",
        "import torch\n",
        "import torch.nn as nn\n",
        "import torch.nn.functional as F\n",
        "from torch.utils.data import Dataset, DataLoader, random_split\n",
        "\n",
        "import timm\n",
        "from torchvision import transforms, models\n",
        "\n",
        "from tifffile import imread"
      ],
      "metadata": {
        "id": "nMPfDUs_e5jn"
      },
      "execution_count": null,
      "outputs": []
    },
    {
      "cell_type": "code",
      "execution_count": null,
      "metadata": {
        "id": "azFRoIbHemm6"
      },
      "outputs": [],
      "source": [
        "# Cell 1 ▶ Dataset (224×224 targets, no down-scaling)\n",
        "class LSTDataset(Dataset):\n",
        "    def __init__(self, df, patches_dir, weather_cols):\n",
        "        self.df           = df.reset_index(drop=True)\n",
        "        self.patches_dir  = patches_dir\n",
        "        self.weather_cols = weather_cols\n",
        "        self.transform    = transforms.Compose([\n",
        "            transforms.ToPILImage(),\n",
        "            transforms.Resize((224, 224)),          # resize image\n",
        "            transforms.ToTensor(),\n",
        "            transforms.Normalize(\n",
        "                mean=[0.485, 0.456, 0.406],\n",
        "                std =[0.229, 0.224, 0.225]),\n",
        "        ])\n",
        "\n",
        "    def __len__(self):\n",
        "        return len(self.df)\n",
        "\n",
        "    def __getitem__(self, idx):\n",
        "        row  = self.df.loc[idx]\n",
        "        arr  = imread(os.path.join(self.patches_dir, row[\"filename\"])\n",
        "                     ).astype(np.float32)            # (4,H,W)\n",
        "\n",
        "        # --- inputs -------------------------------------------------\n",
        "        img_np = arr[[1,2,3]].transpose(1,2,0).astype(np.uint8)\n",
        "        img    = self.transform(img_np)              # [3,224,224]\n",
        "\n",
        "        # --- target (LST) at *full* 224×224 --------------------------\n",
        "        lst    = arr[0]                              # (H,W)\n",
        "        lst    = torch.tensor(lst, dtype=torch.float32).unsqueeze(0)\n",
        "        lst    = F.interpolate(lst.unsqueeze(0), size=(224,224),\n",
        "                               mode='bilinear', align_corners=False\n",
        "                              ).squeeze(0)           # [1,224,224]\n",
        "\n",
        "        # --- meteorology vector -------------------------------------\n",
        "        weather = torch.tensor(\n",
        "            row[self.weather_cols].values.astype(np.float32)\n",
        "        )\n",
        "        return img, weather, lst\n"
      ]
    },
    {
      "cell_type": "code",
      "source": [
        "# define which meteorological columns to pull\n",
        "weather_cols = [\n",
        "    \"air_temp_C\",\n",
        "    \"dew_point_C\",\n",
        "    \"relative_humidity_percent\",\n",
        "    \"wind_speed_m_s\",\n",
        "    \"precipitation_in\",\n",
        "]"
      ],
      "metadata": {
        "id": "N8oE-fEAfDKE"
      },
      "execution_count": null,
      "outputs": []
    },
    {
      "cell_type": "code",
      "source": [
        "df = pd.read_csv(\"/content/drive/MyDrive/PatchedOutput/patch_with_meteo.csv\")\n",
        "for col in weather_cols:\n",
        "    df[col] = pd.to_numeric(df[col], errors=\"coerce\")\n",
        "df = df.dropna(subset=weather_cols + [\"patch_filename\"]).reset_index(drop=True)\n",
        "\n",
        "patches_dir = \"/content/drive/MyDrive/PatchedOutput_Cleaned\"\n",
        "dataset     = LSTDataset(df, patches_dir, weather_cols)\n",
        "train_sz    = int(0.8 * len(dataset))\n",
        "val_sz      = len(dataset) - train_sz\n",
        "train_ds, val_ds = random_split(dataset, [train_sz, val_sz])\n",
        "\n",
        "train_loader = DataLoader(train_ds, batch_size=4, shuffle=True,  num_workers=0, pin_memory=False)\n",
        "val_loader   = DataLoader(val_ds,   batch_size=4, shuffle=False, num_workers=0, pin_memory=False)"
      ],
      "metadata": {
        "id": "KpmG0uy3fEQ6"
      },
      "execution_count": null,
      "outputs": []
    },
    {
      "cell_type": "code",
      "source": [
        "import re\n",
        "\n",
        "# 1) Read in the master CSV\n",
        "df = pd.read_csv(\"/content/drive/MyDrive/PatchedOutput/patch_with_meteo.csv\")\n",
        "\n",
        "# 2) Convert weather columns to numeric & drop NaNs\n",
        "for col in weather_cols:\n",
        "    df[col] = pd.to_numeric(df[col], errors=\"coerce\")\n",
        "df = df.dropna(subset=weather_cols + [\"patch_filename\"]).reset_index(drop=True)\n",
        "\n",
        "# 3) Extract patch_id (“r1152_c672”) and date (“2022-07-12”) from filename\n",
        "def parse_patch_id(fn):\n",
        "    m = re.search(r'(r\\d+_c\\d+)', fn)\n",
        "    return m.group(1) if m else None\n",
        "\n",
        "def parse_date(fn):\n",
        "    m = re.search(r'_(\\d{4}-\\d{2}-\\d{2})_', fn)\n",
        "    return pd.to_datetime(m.group(1)) if m else pd.NaT\n",
        "\n",
        "df['patch_id'] = df['patch_filename'].map(parse_patch_id)\n",
        "df['date']     = df['patch_filename'].map(parse_date)\n",
        "\n",
        "# 4) Drop any rows where parsing failed\n",
        "df = df.dropna(subset=[\"patch_id\", \"date\"]).reset_index(drop=True)\n",
        "\n",
        "print(f\"Loaded {len(df)} rows; found {df['patch_id'].nunique()} unique patches\")"
      ],
      "metadata": {
        "colab": {
          "base_uri": "https://localhost:8080/"
        },
        "id": "FQx8tL3biaM5",
        "outputId": "835218fb-afbf-4d33-e1e5-582e798e7e78"
      },
      "execution_count": null,
      "outputs": [
        {
          "output_type": "stream",
          "name": "stdout",
          "text": [
            "Loaded 18813 rows; found 174 unique patches\n"
          ]
        }
      ]
    },
    {
      "cell_type": "code",
      "source": [
        "class LSTTimeSeriesDataset(torch.utils.data.Dataset):\n",
        "    def __init__(self, df, patches_dir, weather_cols, Δt_days=16):\n",
        "        self.df = df.copy()\n",
        "        self.patches_dir = patches_dir\n",
        "        self.weather_cols = weather_cols\n",
        "        self.Δt = np.timedelta64(int(Δt_days), 'D')\n",
        "\n",
        "        # Group by patch_id, sorted in time\n",
        "        self.groups = {\n",
        "            pid: g.sort_values('date').reset_index(drop=True)\n",
        "            for pid, g in self.df.groupby('patch_id')\n",
        "        }\n",
        "\n",
        "        # Build index of valid (pid, i) pairs where date[i+1] - date[i] == Δt\n",
        "        self.index = []\n",
        "        for pid, g in self.groups.items():\n",
        "            for i in range(len(g)-1):\n",
        "                if (g.loc[i+1,'date'] - g.loc[i,'date']) == self.Δt:\n",
        "                    self.index.append((pid, i))\n",
        "\n",
        "        # Reuse your standard image transform\n",
        "        self.transform = transforms.Compose([\n",
        "            transforms.ToPILImage(),\n",
        "            transforms.Resize((224,224)),\n",
        "            transforms.ToTensor(),\n",
        "            transforms.Normalize(mean=[0.485,0.456,0.406],\n",
        "                                 std=[0.229,0.224,0.225])\n",
        "        ])\n",
        "\n",
        "    def __len__(self):\n",
        "        return len(self.index)\n",
        "\n",
        "    def __getitem__(self, idx):\n",
        "        pid, i = self.index[idx]\n",
        "        g       = self.groups[pid]\n",
        "\n",
        "        # --- t0: image + weather + lst\n",
        "        row0 = g.loc[i]\n",
        "        arr = imread(os.path.join(self.patches_dir, row0.patch_filename))\n",
        "\n",
        "        lst0    = arr[0]                              # (H,W)\n",
        "        lst0    = torch.tensor(lst0, dtype=torch.float32).unsqueeze(0)\n",
        "        lst0    = F.interpolate(lst0.unsqueeze(0), size=(224,224),\n",
        "                               mode='bilinear', align_corners=False\n",
        "                              ).squeeze(0)           # [1,224,224]                                          # [1,224,224]\n",
        "\n",
        "        # --- t1: only LST target\n",
        "        row1 = g.loc[i+1]\n",
        "        arr1 = imread(os.path.join(\n",
        "            self.patches_dir,\n",
        "            row1.patch_filename\n",
        "        ))\n",
        "        img_np = arr1[[1,2,3]].transpose(1,2,0).astype(np.uint8)\n",
        "        img    = self.transform(img_np)              # [3,224,224]\n",
        "        w1 = torch.tensor(\n",
        "            row1[self.weather_cols].values.astype(np.float32),\n",
        "            dtype=torch.float32\n",
        "        )\n",
        "\n",
        "        lst1_np = arr1[0]                                    # (H,W)\n",
        "        lst1 = torch.tensor(lst1_np, dtype=torch.float32).unsqueeze(0)\n",
        "        lst1 = F.interpolate(\n",
        "            lst1.unsqueeze(0),\n",
        "            size=(224,224),\n",
        "            mode='bilinear', align_corners=False\n",
        "        ).squeeze(0)                                          # [1,224,224]\n",
        "\n",
        "        return img, w1, lst0, lst1\n"
      ],
      "metadata": {
        "id": "j5exAz1Ej4KU"
      },
      "execution_count": null,
      "outputs": []
    },
    {
      "cell_type": "code",
      "source": [
        "ts_dataset = LSTTimeSeriesDataset(df, patches_dir, weather_cols)\n",
        "train_sz = int(0.8 * len(ts_dataset))\n",
        "train_ds, val_ds = random_split(ts_dataset, [train_sz, len(ts_dataset)-train_sz])\n",
        "\n",
        "train_loader = DataLoader(train_ds, batch_size=4, shuffle=True)\n",
        "val_loader   = DataLoader(val_ds,   batch_size=4, shuffle=False)"
      ],
      "metadata": {
        "id": "WAWFQiJaj7pC"
      },
      "execution_count": null,
      "outputs": []
    },
    {
      "cell_type": "code",
      "source": [
        "# Cell 4 ▶ ViT + weather → 224×224 decoder (with α)\n",
        "import math, torch.nn as nn, timm\n",
        "\n",
        "class PretrainedViTLSTModel(nn.Module):\n",
        "    def __init__(self,\n",
        "                 weather_dim=5,\n",
        "                 hidden_dim=768,\n",
        "                 vit_name=\"vit_base_patch16_224\",\n",
        "                 num_layers=2,\n",
        "                 num_heads=8):\n",
        "        super().__init__()\n",
        "        # --- frozen ViT backbone ---\n",
        "        self.vit = timm.create_model(vit_name, pretrained=True, num_classes=0)\n",
        "        for p in self.vit.parameters():\n",
        "            p.requires_grad = False\n",
        "\n",
        "        # --- project weather → token ---\n",
        "        self.weather_proj = nn.Linear(weather_dim, hidden_dim)\n",
        "\n",
        "        # --- tiny transformer for fusion ---\n",
        "        enc = nn.TransformerEncoderLayer(\n",
        "            d_model=hidden_dim,\n",
        "            nhead=num_heads,\n",
        "            dim_feedforward=hidden_dim * 4,\n",
        "            dropout=0.1\n",
        "        )\n",
        "        self.transformer = nn.TransformerEncoder(enc, num_layers)\n",
        "\n",
        "        # --- decoder: 14→224 via conv-transpose ---\n",
        "        self.deconv = nn.Sequential(\n",
        "            nn.ConvTranspose2d(hidden_dim, hidden_dim//2, 2, 2),\n",
        "            nn.BatchNorm2d(hidden_dim//2), nn.ReLU(inplace=True),\n",
        "\n",
        "            nn.ConvTranspose2d(hidden_dim//2, hidden_dim//4, 2, 2),\n",
        "            nn.BatchNorm2d(hidden_dim//4), nn.ReLU(inplace=True),\n",
        "\n",
        "            nn.ConvTranspose2d(hidden_dim//4, hidden_dim//8, 2, 2),\n",
        "            nn.BatchNorm2d(hidden_dim//8), nn.ReLU(inplace=True),\n",
        "\n",
        "            nn.ConvTranspose2d(hidden_dim//8, 1, 2, 2)\n",
        "        )\n",
        "\n",
        "        # --- learnable Newton-cooling coefficient α ---\n",
        "        self.alpha = nn.Parameter(torch.tensor(0.01, dtype=torch.float32))\n",
        "\n",
        "    def forward(self, images, weather):\n",
        "        feats   = self.vit.forward_features(images)  # [B,197,768]\n",
        "        cls_tok = feats[:, :1]                       # [B,1,768]\n",
        "        patch_t = feats[:, 1:]                       # [B,196,768]\n",
        "\n",
        "        w_tok   = self.weather_proj(weather).unsqueeze(1)  # [B,1,768]\n",
        "        tokens  = torch.cat([patch_t, w_tok, cls_tok], 1)  # [B,198,768]\n",
        "\n",
        "        t = self.transformer(tokens.permute(1,0,2)).permute(1,0,2)\n",
        "        patch_out = t[:, :-2, :]                       # drop weather+CLS\n",
        "\n",
        "        B, N, D = patch_out.shape  # N=196\n",
        "        G = int(math.sqrt(N))      # =14\n",
        "        x = patch_out.transpose(1,2).view(B, D, G, G)   # [B,768,14,14]\n",
        "        return self.deconv(x)                          # [B,1,224,224]"
      ],
      "metadata": {
        "id": "KmMlgMukfHc4"
      },
      "execution_count": null,
      "outputs": []
    },
    {
      "cell_type": "code",
      "source": [
        "device = torch.device(\"cuda\" if torch.cuda.is_available() else \"cpu\")\n",
        "model  = PretrainedViTLSTModel(\n",
        "    weather_dim=len(weather_cols),\n",
        "    hidden_dim=768,\n",
        "    vit_name=\"vit_base_patch16_224\",\n",
        "    num_layers=2,\n",
        "    num_heads=8\n",
        ").to(device)\n",
        "\n",
        "# unfreeze last ViT blocks:\n",
        "for name, param in model.vit.named_parameters():\n",
        "    if any(layer in name for layer in [\"blocks.10\", \"blocks.11\", \"norm\"]):\n",
        "        param.requires_grad = True"
      ],
      "metadata": {
        "colab": {
          "base_uri": "https://localhost:8080/",
          "height": 208,
          "referenced_widgets": [
            "1aac3e7fef7a4c248eab24613365daff",
            "1f5ebb2cef4147a6b53c9b3a09f6def2",
            "be66879d886a49d988f67aee674b4c6b",
            "5c3197829e844082a785687ced059c8b",
            "526391fb09f641a28513789d71d5040e",
            "5288681de9d245e0b43eb9235a79b1b9",
            "61ff708f8d494c399744aebba44583f0",
            "83e24c5d8a974a4092ac5290be3ca4a1",
            "56a108aadf944e859eea0cf876048641",
            "aca50d317ed54d4fa27cc6c02e08d11e",
            "6d58dfbf5bbb4af6a95c4ee5f4e72f7c"
          ]
        },
        "id": "stJ6GjDpfN0z",
        "outputId": "04e2e042-4386-4a54-8cfd-895c09c6b3bf"
      },
      "execution_count": null,
      "outputs": [
        {
          "output_type": "stream",
          "name": "stderr",
          "text": [
            "/usr/local/lib/python3.11/dist-packages/huggingface_hub/utils/_auth.py:94: UserWarning: \n",
            "The secret `HF_TOKEN` does not exist in your Colab secrets.\n",
            "To authenticate with the Hugging Face Hub, create a token in your settings tab (https://huggingface.co/settings/tokens), set it as secret in your Google Colab and restart your session.\n",
            "You will be able to reuse this secret in all of your notebooks.\n",
            "Please note that authentication is recommended but still optional to access public models or datasets.\n",
            "  warnings.warn(\n"
          ]
        },
        {
          "output_type": "display_data",
          "data": {
            "text/plain": [
              "model.safetensors:   0%|          | 0.00/346M [00:00<?, ?B/s]"
            ],
            "application/vnd.jupyter.widget-view+json": {
              "version_major": 2,
              "version_minor": 0,
              "model_id": "1aac3e7fef7a4c248eab24613365daff"
            }
          },
          "metadata": {}
        },
        {
          "output_type": "stream",
          "name": "stderr",
          "text": [
            "/usr/local/lib/python3.11/dist-packages/torch/nn/modules/transformer.py:385: UserWarning: enable_nested_tensor is True, but self.use_nested_tensor is False because encoder_layer.self_attn.batch_first was not True(use batch_first for better inference performance)\n",
            "  warnings.warn(\n"
          ]
        }
      ]
    },
    {
      "cell_type": "code",
      "source": [
        "opt       = torch.optim.AdamW(\n",
        "    filter(lambda p: p.requires_grad, model.parameters()),\n",
        "    lr=1e-4, weight_decay=1e-2\n",
        ")\n",
        "loss_fn   = nn.SmoothL1Loss()\n",
        "scheduler = torch.optim.lr_scheduler.ReduceLROnPlateau(\n",
        "    opt, mode='min', factor=0.5, patience=3, verbose=True\n",
        ")"
      ],
      "metadata": {
        "colab": {
          "base_uri": "https://localhost:8080/"
        },
        "id": "u0AIOLwKfQTY",
        "outputId": "24a44482-37c4-4507-90a0-2339edf2a3b7"
      },
      "execution_count": null,
      "outputs": [
        {
          "output_type": "stream",
          "name": "stderr",
          "text": [
            "/usr/local/lib/python3.11/dist-packages/torch/optim/lr_scheduler.py:62: UserWarning: The verbose parameter is deprecated. Please use get_last_lr() to access the learning rate.\n",
            "  warnings.warn(\n"
          ]
        }
      ]
    },
    {
      "cell_type": "code",
      "source": [
        "# Cell 0 ▶ install LZW support\n",
        "!pip install imagecodecs --quiet\n"
      ],
      "metadata": {
        "id": "P8bR1Wxugelh"
      },
      "execution_count": null,
      "outputs": []
    },
    {
      "cell_type": "code",
      "source": [
        "from tifffile import imread\n"
      ],
      "metadata": {
        "id": "MPt46Y4mlnR1"
      },
      "execution_count": null,
      "outputs": []
    },
    {
      "cell_type": "code",
      "source": [
        "from tqdm import tqdm\n",
        "import os\n",
        "from pathlib import Path\n",
        "import torch\n",
        "\n",
        "save_dir = Path(\"/content/drive/MyDrive/Model_vit_PINN_transformer_30m_Checkpoints\")\n",
        "save_dir.mkdir(parents=True, exist_ok=True)\n",
        "\n",
        "num_epochs = 20\n",
        "start_ep   = 0\n",
        "\n",
        "λ_phys   = 0.1     # physics‐loss weight\n",
        "Δt_days  = 16.0    # 16‐day revisit\n",
        "\n",
        "for epoch in range(start_ep, num_epochs):\n",
        "    model.train()\n",
        "    total_data, total_phys, seen = 0.0, 0.0, 0\n",
        "    pbar = tqdm(train_loader, desc=f\"Epoch {epoch+1:02d} Train\", unit=\"batch\")\n",
        "\n",
        "    for imgs, weather, lst0, lst1 in pbar:\n",
        "        imgs, weather, lst0, lst1 = (\n",
        "            imgs.to(device), weather.to(device),\n",
        "            lst0.to(device), lst1.to(device)\n",
        "        )\n",
        "        B = imgs.size(0)\n",
        "\n",
        "        opt.zero_grad()\n",
        "        pred1     = model(imgs, weather)              # [B,1,224,224]\n",
        "        data_loss = loss_fn(pred1, lst1)\n",
        "\n",
        "        # pixel-wise physics term\n",
        "        T_air1    = weather[:,0].view(-1,1,1,1)\n",
        "        resid     = (pred1 - lst0)/Δt_days \\\n",
        "                    - model.alpha * (T_air1 - pred1)\n",
        "        phys_loss = resid.pow(2).mean()\n",
        "\n",
        "        loss = data_loss + λ_phys * phys_loss\n",
        "        loss.backward()\n",
        "        torch.nn.utils.clip_grad_norm_(model.parameters(), 1.0)\n",
        "        opt.step()\n",
        "\n",
        "        # accumulate\n",
        "        total_data  += data_loss.item() * B\n",
        "        total_phys  += phys_loss.item() * B\n",
        "        seen        += B\n",
        "\n",
        "        # compute running averages\n",
        "        avg_data  = total_data / seen\n",
        "        avg_phys  = total_phys / seen\n",
        "        avg_total = avg_data + λ_phys * avg_phys\n",
        "\n",
        "        # update tqdm postfix\n",
        "        pbar.set_postfix({\n",
        "            'batch':    f\"{loss.item():.4f}\",\n",
        "            'avg_data': f\"{avg_data:.4f}\",\n",
        "            'avg_phys': f\"{avg_phys:.4f}\",\n",
        "            'avg_tot':  f\"{avg_total:.4f}\"\n",
        "        })\n",
        "\n",
        "    # end of epoch: compute epoch RMSE\n",
        "    train_rmse = math.sqrt(avg_total)\n",
        "\n",
        "    # — VALIDATION (data‐only) —\n",
        "    model.eval()\n",
        "    val_sum, val_n = 0.0, 0\n",
        "    with torch.no_grad():\n",
        "        for imgs, weather, lst0, lst1 in val_loader:\n",
        "            imgs, weather, lst0, lst1 = (\n",
        "                imgs.to(device), weather.to(device),\n",
        "                lst0.to(device), lst1.to(device)\n",
        "            )\n",
        "            batch_loss = loss_fn(model(imgs, weather), lst1).item()\n",
        "            val_sum   += batch_loss * imgs.size(0)\n",
        "            val_n     += imgs.size(0)\n",
        "    val_rmse = math.sqrt(val_sum / val_n)\n",
        "    scheduler.step(val_sum)\n",
        "\n",
        "    print(f\"Epoch {epoch+1:02d} ▶ Train RMSE: {train_rmse:.3f} | Val RMSE: {val_rmse:.3f}\")\n",
        "    ckpt = save_dir / f\"pinn_epoch{epoch+1:02d}.pt\"\n",
        "    torch.save({\n",
        "        'epoch': epoch+1,\n",
        "        'model_state_dict': model.state_dict(),\n",
        "        'optimizer_state_dict': opt.state_dict(),\n",
        "        'train_rmse': train_rmse,\n",
        "        'val_rmse': val_rmse,\n",
        "        'alpha': model.alpha.item()\n",
        "    }, ckpt)\n",
        "    print(f\"✅ Saved checkpoint: {ckpt}\")\n",
        "\n",
        "print(\"✅ Training finished\")\n"
      ],
      "metadata": {
        "colab": {
          "base_uri": "https://localhost:8080/"
        },
        "id": "DIbFRroNfSHy",
        "outputId": "1a55ca05-2b15-4b82-acd7-ad7ae0231451"
      },
      "execution_count": null,
      "outputs": [
        {
          "metadata": {
            "tags": null
          },
          "name": "stderr",
          "output_type": "stream",
          "text": [
            "Epoch 01 Train: 100%|██████████| 3421/3421 [1:22:15<00:00,  1.44s/batch, batch=3.5710, avg_data=1.3416, avg_phys=0.5443, avg_tot=1.3960]\n"
          ]
        },
        {
          "output_type": "stream",
          "name": "stdout",
          "text": [
            "Epoch 01 ▶ Train RMSE: 1.182 | Val RMSE: 0.651\n",
            "✅ Saved checkpoint: /content/drive/MyDrive/Model_vit_PINN_transformer_30m_Checkpoints/pinn_epoch01.pt\n"
          ]
        },
        {
          "output_type": "stream",
          "name": "stderr",
          "text": [
            "Epoch 02 Train: 100%|██████████| 3421/3421 [04:59<00:00, 11.42batch/s, batch=0.2212, avg_data=0.5478, avg_phys=0.6093, avg_tot=0.6087]\n"
          ]
        },
        {
          "output_type": "stream",
          "name": "stdout",
          "text": [
            "Epoch 02 ▶ Train RMSE: 0.780 | Val RMSE: 0.666\n",
            "✅ Saved checkpoint: /content/drive/MyDrive/Model_vit_PINN_transformer_30m_Checkpoints/pinn_epoch02.pt\n"
          ]
        },
        {
          "output_type": "stream",
          "name": "stderr",
          "text": [
            "Epoch 03 Train: 100%|██████████| 3421/3421 [04:46<00:00, 11.93batch/s, batch=0.4323, avg_data=0.3765, avg_phys=0.6320, avg_tot=0.4397]\n"
          ]
        },
        {
          "output_type": "stream",
          "name": "stdout",
          "text": [
            "Epoch 03 ▶ Train RMSE: 0.663 | Val RMSE: 0.441\n",
            "✅ Saved checkpoint: /content/drive/MyDrive/Model_vit_PINN_transformer_30m_Checkpoints/pinn_epoch03.pt\n"
          ]
        },
        {
          "output_type": "stream",
          "name": "stderr",
          "text": [
            "Epoch 04 Train: 100%|██████████| 3421/3421 [04:38<00:00, 12.28batch/s, batch=0.2369, avg_data=0.2921, avg_phys=0.6464, avg_tot=0.3568]\n"
          ]
        },
        {
          "output_type": "stream",
          "name": "stdout",
          "text": [
            "Epoch 04 ▶ Train RMSE: 0.597 | Val RMSE: 0.498\n",
            "✅ Saved checkpoint: /content/drive/MyDrive/Model_vit_PINN_transformer_30m_Checkpoints/pinn_epoch04.pt\n"
          ]
        },
        {
          "output_type": "stream",
          "name": "stderr",
          "text": [
            "Epoch 05 Train: 100%|██████████| 3421/3421 [04:38<00:00, 12.28batch/s, batch=0.0697, avg_data=0.2444, avg_phys=0.6553, avg_tot=0.3099]\n"
          ]
        },
        {
          "output_type": "stream",
          "name": "stdout",
          "text": [
            "Epoch 05 ▶ Train RMSE: 0.557 | Val RMSE: 0.382\n",
            "✅ Saved checkpoint: /content/drive/MyDrive/Model_vit_PINN_transformer_30m_Checkpoints/pinn_epoch05.pt\n"
          ]
        },
        {
          "output_type": "stream",
          "name": "stderr",
          "text": [
            "Epoch 06 Train: 100%|██████████| 3421/3421 [04:38<00:00, 12.27batch/s, batch=0.1403, avg_data=0.2091, avg_phys=0.6638, avg_tot=0.2755]\n"
          ]
        },
        {
          "output_type": "stream",
          "name": "stdout",
          "text": [
            "Epoch 06 ▶ Train RMSE: 0.525 | Val RMSE: 0.394\n",
            "✅ Saved checkpoint: /content/drive/MyDrive/Model_vit_PINN_transformer_30m_Checkpoints/pinn_epoch06.pt\n"
          ]
        },
        {
          "output_type": "stream",
          "name": "stderr",
          "text": [
            "Epoch 07 Train: 100%|██████████| 3421/3421 [04:38<00:00, 12.29batch/s, batch=0.2298, avg_data=0.1802, avg_phys=0.6697, avg_tot=0.2472]\n"
          ]
        },
        {
          "output_type": "stream",
          "name": "stdout",
          "text": [
            "Epoch 07 ▶ Train RMSE: 0.497 | Val RMSE: 0.477\n",
            "✅ Saved checkpoint: /content/drive/MyDrive/Model_vit_PINN_transformer_30m_Checkpoints/pinn_epoch07.pt\n"
          ]
        },
        {
          "output_type": "stream",
          "name": "stderr",
          "text": [
            "Epoch 08 Train: 100%|██████████| 3421/3421 [04:38<00:00, 12.28batch/s, batch=0.0783, avg_data=0.1615, avg_phys=0.6743, avg_tot=0.2289]\n"
          ]
        },
        {
          "output_type": "stream",
          "name": "stdout",
          "text": [
            "Epoch 08 ▶ Train RMSE: 0.478 | Val RMSE: 0.305\n",
            "✅ Saved checkpoint: /content/drive/MyDrive/Model_vit_PINN_transformer_30m_Checkpoints/pinn_epoch08.pt\n"
          ]
        },
        {
          "output_type": "stream",
          "name": "stderr",
          "text": [
            "Epoch 09 Train: 100%|██████████| 3421/3421 [04:48<00:00, 11.87batch/s, batch=0.0920, avg_data=0.1445, avg_phys=0.6811, avg_tot=0.2126]\n"
          ]
        },
        {
          "output_type": "stream",
          "name": "stdout",
          "text": [
            "Epoch 09 ▶ Train RMSE: 0.461 | Val RMSE: 0.374\n",
            "✅ Saved checkpoint: /content/drive/MyDrive/Model_vit_PINN_transformer_30m_Checkpoints/pinn_epoch09.pt\n"
          ]
        },
        {
          "output_type": "stream",
          "name": "stderr",
          "text": [
            "Epoch 10 Train: 100%|██████████| 3421/3421 [04:52<00:00, 11.68batch/s, batch=0.0598, avg_data=0.1324, avg_phys=0.6816, avg_tot=0.2005]\n"
          ]
        },
        {
          "output_type": "stream",
          "name": "stdout",
          "text": [
            "Epoch 10 ▶ Train RMSE: 0.448 | Val RMSE: 0.363\n",
            "✅ Saved checkpoint: /content/drive/MyDrive/Model_vit_PINN_transformer_30m_Checkpoints/pinn_epoch10.pt\n"
          ]
        },
        {
          "output_type": "stream",
          "name": "stderr",
          "text": [
            "Epoch 11 Train: 100%|██████████| 3421/3421 [04:45<00:00, 12.00batch/s, batch=0.1342, avg_data=0.1214, avg_phys=0.6852, avg_tot=0.1899]\n"
          ]
        },
        {
          "output_type": "stream",
          "name": "stdout",
          "text": [
            "Epoch 11 ▶ Train RMSE: 0.436 | Val RMSE: 0.389\n",
            "✅ Saved checkpoint: /content/drive/MyDrive/Model_vit_PINN_transformer_30m_Checkpoints/pinn_epoch11.pt\n"
          ]
        },
        {
          "output_type": "stream",
          "name": "stderr",
          "text": [
            "Epoch 12 Train: 100%|██████████| 3421/3421 [04:38<00:00, 12.27batch/s, batch=0.1376, avg_data=0.1166, avg_phys=0.6909, avg_tot=0.1856]\n"
          ]
        },
        {
          "output_type": "stream",
          "name": "stdout",
          "text": [
            "Epoch 12 ▶ Train RMSE: 0.431 | Val RMSE: 0.314\n",
            "✅ Saved checkpoint: /content/drive/MyDrive/Model_vit_PINN_transformer_30m_Checkpoints/pinn_epoch12.pt\n"
          ]
        },
        {
          "output_type": "stream",
          "name": "stderr",
          "text": [
            "Epoch 13 Train: 100%|██████████| 3421/3421 [04:40<00:00, 12.20batch/s, batch=0.0721, avg_data=0.0767, avg_phys=0.6918, avg_tot=0.1459]\n"
          ]
        },
        {
          "output_type": "stream",
          "name": "stdout",
          "text": [
            "Epoch 13 ▶ Train RMSE: 0.382 | Val RMSE: 0.234\n",
            "✅ Saved checkpoint: /content/drive/MyDrive/Model_vit_PINN_transformer_30m_Checkpoints/pinn_epoch13.pt\n"
          ]
        },
        {
          "output_type": "stream",
          "name": "stderr",
          "text": [
            "Epoch 14 Train: 100%|██████████| 3421/3421 [04:38<00:00, 12.30batch/s, batch=0.0685, avg_data=0.0698, avg_phys=0.6957, avg_tot=0.1394]\n"
          ]
        },
        {
          "output_type": "stream",
          "name": "stdout",
          "text": [
            "Epoch 14 ▶ Train RMSE: 0.373 | Val RMSE: 0.257\n",
            "✅ Saved checkpoint: /content/drive/MyDrive/Model_vit_PINN_transformer_30m_Checkpoints/pinn_epoch14.pt\n"
          ]
        },
        {
          "output_type": "stream",
          "name": "stderr",
          "text": [
            "Epoch 15 Train: 100%|██████████| 3421/3421 [04:37<00:00, 12.31batch/s, batch=0.3438, avg_data=0.0688, avg_phys=0.6955, avg_tot=0.1384]\n"
          ]
        },
        {
          "output_type": "stream",
          "name": "stdout",
          "text": [
            "Epoch 15 ▶ Train RMSE: 0.372 | Val RMSE: 0.278\n",
            "✅ Saved checkpoint: /content/drive/MyDrive/Model_vit_PINN_transformer_30m_Checkpoints/pinn_epoch15.pt\n"
          ]
        },
        {
          "output_type": "stream",
          "name": "stderr",
          "text": [
            "Epoch 16 Train: 100%|██████████| 3421/3421 [04:38<00:00, 12.29batch/s, batch=0.0583, avg_data=0.0651, avg_phys=0.6972, avg_tot=0.1348]\n"
          ]
        },
        {
          "output_type": "stream",
          "name": "stdout",
          "text": [
            "Epoch 16 ▶ Train RMSE: 0.367 | Val RMSE: 0.250\n",
            "✅ Saved checkpoint: /content/drive/MyDrive/Model_vit_PINN_transformer_30m_Checkpoints/pinn_epoch16.pt\n"
          ]
        },
        {
          "output_type": "stream",
          "name": "stderr",
          "text": [
            "Epoch 17 Train: 100%|██████████| 3421/3421 [04:38<00:00, 12.30batch/s, batch=0.1155, avg_data=0.0588, avg_phys=0.7014, avg_tot=0.1289]\n"
          ]
        },
        {
          "output_type": "stream",
          "name": "stdout",
          "text": [
            "Epoch 17 ▶ Train RMSE: 0.359 | Val RMSE: 0.239\n",
            "✅ Saved checkpoint: /content/drive/MyDrive/Model_vit_PINN_transformer_30m_Checkpoints/pinn_epoch17.pt\n"
          ]
        },
        {
          "output_type": "stream",
          "name": "stderr",
          "text": [
            "Epoch 18 Train: 100%|██████████| 3421/3421 [04:38<00:00, 12.30batch/s, batch=0.1142, avg_data=0.0478, avg_phys=0.6993, avg_tot=0.1177]\n"
          ]
        },
        {
          "output_type": "stream",
          "name": "stdout",
          "text": [
            "Epoch 18 ▶ Train RMSE: 0.343 | Val RMSE: 0.248\n",
            "✅ Saved checkpoint: /content/drive/MyDrive/Model_vit_PINN_transformer_30m_Checkpoints/pinn_epoch18.pt\n"
          ]
        },
        {
          "output_type": "stream",
          "name": "stderr",
          "text": [
            "Epoch 19 Train: 100%|██████████| 3421/3421 [04:38<00:00, 12.30batch/s, batch=0.1447, avg_data=0.0456, avg_phys=0.7004, avg_tot=0.1157]\n"
          ]
        },
        {
          "output_type": "stream",
          "name": "stdout",
          "text": [
            "Epoch 19 ▶ Train RMSE: 0.340 | Val RMSE: 0.233\n",
            "✅ Saved checkpoint: /content/drive/MyDrive/Model_vit_PINN_transformer_30m_Checkpoints/pinn_epoch19.pt\n"
          ]
        },
        {
          "output_type": "stream",
          "name": "stderr",
          "text": [
            "Epoch 20 Train: 100%|██████████| 3421/3421 [04:38<00:00, 12.29batch/s, batch=0.0373, avg_data=0.0458, avg_phys=0.7005, avg_tot=0.1159]\n"
          ]
        },
        {
          "output_type": "stream",
          "name": "stdout",
          "text": [
            "Epoch 20 ▶ Train RMSE: 0.340 | Val RMSE: 0.212\n",
            "✅ Saved checkpoint: /content/drive/MyDrive/Model_vit_PINN_transformer_30m_Checkpoints/pinn_epoch20.pt\n",
            "✅ Training finished\n"
          ]
        }
      ]
    }
  ]
}