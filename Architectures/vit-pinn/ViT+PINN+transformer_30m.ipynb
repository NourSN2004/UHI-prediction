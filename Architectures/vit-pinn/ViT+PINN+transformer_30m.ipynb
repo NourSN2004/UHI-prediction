{
  "nbformat": 4,
  "nbformat_minor": 0,
  "metadata": {
    "colab": {
      "provenance": [],
      "gpuType": "L4",
      "machine_shape": "hm"
    },
    "kernelspec": {
      "name": "python3",
      "display_name": "Python 3"
    },
    "language_info": {
      "name": "python"
    },
    "accelerator": "GPU"
  },
  "cells": [
    {
      "cell_type": "code",
      "source": [
        "from google.colab import drive\n",
        "drive.mount('/content/drive')"
      ],
      "metadata": {
        "colab": {
          "base_uri": "https://localhost:8080/"
        },
        "id": "wr2fG4GbepGx",
        "outputId": "5a399bd9-3215-4f79-dbee-1fed4db8f42b"
      },
      "execution_count": null,
      "outputs": [
        {
          "output_type": "stream",
          "name": "stdout",
          "text": [
            "Mounted at /content/drive\n"
          ]
        }
      ]
    },
    {
      "cell_type": "code",
      "source": [
        "# Cell 1 ▶ Install required packages\n",
        "!pip install timm torchvision tifffile imagecodecs --quiet"
      ],
      "metadata": {
        "id": "l7tCdKlae3VI",
        "colab": {
          "base_uri": "https://localhost:8080/"
        },
        "outputId": "123d23e0-ff1a-49fc-b314-909f40626210"
      },
      "execution_count": null,
      "outputs": [
        {
          "output_type": "stream",
          "name": "stdout",
          "text": [
            "\u001b[2K   \u001b[90m━━━━━━━━━━━━━━━━━━━━━━━━━━━━━━━━━━━━━━━━\u001b[0m \u001b[32m363.4/363.4 MB\u001b[0m \u001b[31m3.2 MB/s\u001b[0m eta \u001b[36m0:00:00\u001b[0m\n",
            "\u001b[2K   \u001b[90m━━━━━━━━━━━━━━━━━━━━━━━━━━━━━━━━━━━━━━━━\u001b[0m \u001b[32m13.8/13.8 MB\u001b[0m \u001b[31m126.8 MB/s\u001b[0m eta \u001b[36m0:00:00\u001b[0m\n",
            "\u001b[2K   \u001b[90m━━━━━━━━━━━━━━━━━━━━━━━━━━━━━━━━━━━━━━━━\u001b[0m \u001b[32m24.6/24.6 MB\u001b[0m \u001b[31m100.2 MB/s\u001b[0m eta \u001b[36m0:00:00\u001b[0m\n",
            "\u001b[2K   \u001b[90m━━━━━━━━━━━━━━━━━━━━━━━━━━━━━━━━━━━━━━━━\u001b[0m \u001b[32m883.7/883.7 kB\u001b[0m \u001b[31m56.7 MB/s\u001b[0m eta \u001b[36m0:00:00\u001b[0m\n",
            "\u001b[2K   \u001b[90m━━━━━━━━━━━━━━━━━━━━━━━━━━━━━━━━━━━━━━━━\u001b[0m \u001b[32m664.8/664.8 MB\u001b[0m \u001b[31m2.2 MB/s\u001b[0m eta \u001b[36m0:00:00\u001b[0m\n",
            "\u001b[2K   \u001b[90m━━━━━━━━━━━━━━━━━━━━━━━━━━━━━━━━━━━━━━━━\u001b[0m \u001b[32m211.5/211.5 MB\u001b[0m \u001b[31m4.8 MB/s\u001b[0m eta \u001b[36m0:00:00\u001b[0m\n",
            "\u001b[2K   \u001b[90m━━━━━━━━━━━━━━━━━━━━━━━━━━━━━━━━━━━━━━━━\u001b[0m \u001b[32m56.3/56.3 MB\u001b[0m \u001b[31m41.5 MB/s\u001b[0m eta \u001b[36m0:00:00\u001b[0m\n",
            "\u001b[2K   \u001b[90m━━━━━━━━━━━━━━━━━━━━━━━━━━━━━━━━━━━━━━━━\u001b[0m \u001b[32m127.9/127.9 MB\u001b[0m \u001b[31m19.3 MB/s\u001b[0m eta \u001b[36m0:00:00\u001b[0m\n",
            "\u001b[2K   \u001b[90m━━━━━━━━━━━━━━━━━━━━━━━━━━━━━━━━━━━━━━━━\u001b[0m \u001b[32m207.5/207.5 MB\u001b[0m \u001b[31m5.2 MB/s\u001b[0m eta \u001b[36m0:00:00\u001b[0m\n",
            "\u001b[2K   \u001b[90m━━━━━━━━━━━━━━━━━━━━━━━━━━━━━━━━━━━━━━━━\u001b[0m \u001b[32m21.1/21.1 MB\u001b[0m \u001b[31m104.2 MB/s\u001b[0m eta \u001b[36m0:00:00\u001b[0m\n",
            "\u001b[2K   \u001b[90m━━━━━━━━━━━━━━━━━━━━━━━━━━━━━━━━━━━━━━━━\u001b[0m \u001b[32m45.6/45.6 MB\u001b[0m \u001b[31m49.9 MB/s\u001b[0m eta \u001b[36m0:00:00\u001b[0m\n",
            "\u001b[?25h"
          ]
        }
      ]
    },
    {
      "cell_type": "code",
      "source": [
        "# Cell 2 ▶ Consolidated imports\n",
        "import os\n",
        "import math\n",
        "import time\n",
        "\n",
        "import pandas as pd\n",
        "import numpy as np\n",
        "\n",
        "import torch\n",
        "import torch.nn as nn\n",
        "import torch.nn.functional as F\n",
        "from torch.utils.data import Dataset, DataLoader, random_split\n",
        "\n",
        "import timm\n",
        "from torchvision import transforms, models\n",
        "\n",
        "from tifffile import imread"
      ],
      "metadata": {
        "id": "nMPfDUs_e5jn"
      },
      "execution_count": null,
      "outputs": []
    },
    {
      "cell_type": "code",
      "execution_count": null,
      "metadata": {
        "id": "azFRoIbHemm6"
      },
      "outputs": [],
      "source": [
        "# Cell 1 ▶ Dataset (224×224 targets, no down-scaling)\n",
        "class LSTDataset(Dataset):\n",
        "    def __init__(self, df, patches_dir, weather_cols):\n",
        "        self.df           = df.reset_index(drop=True)\n",
        "        self.patches_dir  = patches_dir\n",
        "        self.weather_cols = weather_cols\n",
        "        self.transform    = transforms.Compose([\n",
        "            transforms.ToPILImage(),\n",
        "            transforms.Resize((224, 224)),          # resize image\n",
        "            transforms.ToTensor(),\n",
        "            transforms.Normalize(\n",
        "                mean=[0.485, 0.456, 0.406],\n",
        "                std =[0.229, 0.224, 0.225]),\n",
        "        ])\n",
        "\n",
        "    def __len__(self):\n",
        "        return len(self.df)\n",
        "\n",
        "    def __getitem__(self, idx):\n",
        "        row  = self.df.loc[idx]\n",
        "        arr  = imread(os.path.join(self.patches_dir, row[\"filename\"])\n",
        "                     ).astype(np.float32)            # (4,H,W)\n",
        "\n",
        "        # --- inputs -------------------------------------------------\n",
        "        img_np = arr[[1,2,3]].transpose(1,2,0).astype(np.uint8)\n",
        "        img    = self.transform(img_np)              # [3,224,224]\n",
        "\n",
        "        # --- target (LST) at *full* 224×224 --------------------------\n",
        "        lst    = arr[0]                              # (H,W)\n",
        "        lst    = torch.tensor(lst, dtype=torch.float32).unsqueeze(0)\n",
        "        lst    = F.interpolate(lst.unsqueeze(0), size=(224,224),\n",
        "                               mode='bilinear', align_corners=False\n",
        "                              ).squeeze(0)           # [1,224,224]\n",
        "\n",
        "        # --- meteorology vector -------------------------------------\n",
        "        weather = torch.tensor(\n",
        "            row[self.weather_cols].values.astype(np.float32)\n",
        "        )\n",
        "        return img, weather, lst\n"
      ]
    },
    {
      "cell_type": "code",
      "source": [
        "# define which meteorological columns to pull\n",
        "weather_cols = [\n",
        "    \"air_temp_C\",\n",
        "    \"dew_point_C\",\n",
        "    \"relative_humidity_percent\",\n",
        "    \"wind_speed_m_s\",\n",
        "    \"precipitation_in\",\n",
        "]"
      ],
      "metadata": {
        "id": "N8oE-fEAfDKE"
      },
      "execution_count": null,
      "outputs": []
    },
    {
      "cell_type": "code",
      "source": [
        "df = pd.read_csv(\"/content/drive/MyDrive/PatchedOutput/tiff_with_meteo.csv\")\n",
        "for col in weather_cols:\n",
        "    df[col] = pd.to_numeric(df[col], errors=\"coerce\")\n",
        "df = df.dropna(subset=weather_cols + [\"filename\"]).reset_index(drop=True)\n",
        "\n",
        "patches_dir = \"/content/drive/MyDrive/PatchedOutput_Cleaned\"\n",
        "dataset     = LSTDataset(df, patches_dir, weather_cols)\n",
        "train_sz    = int(0.8 * len(dataset))\n",
        "val_sz      = len(dataset) - train_sz\n",
        "train_ds, val_ds = random_split(dataset, [train_sz, val_sz])\n",
        "\n",
        "train_loader = DataLoader(train_ds, batch_size=4, shuffle=True,  num_workers=0, pin_memory=False)\n",
        "val_loader   = DataLoader(val_ds,   batch_size=4, shuffle=False, num_workers=0, pin_memory=False)"
      ],
      "metadata": {
        "id": "KpmG0uy3fEQ6"
      },
      "execution_count": null,
      "outputs": []
    },
    {
      "cell_type": "code",
      "source": [
        "import re\n",
        "\n",
        "# 1) Read in the master CSV\n",
        "df = pd.read_csv(\"/content/drive/MyDrive/PatchedOutput/tiff_with_meteo.csv\")\n",
        "\n",
        "# 2) Convert weather columns to numeric & drop NaNs\n",
        "for col in weather_cols:\n",
        "    df[col] = pd.to_numeric(df[col], errors=\"coerce\")\n",
        "df = df.dropna(subset=weather_cols + [\"filename\"]).reset_index(drop=True)\n",
        "\n",
        "# 3) Extract patch_id (“r1152_c672”) and date (“2022-07-12”) from filename\n",
        "def parse_patch_id(fn):\n",
        "    m = re.search(r'(r\\d+_c\\d+)', fn)\n",
        "    return m.group(1) if m else None\n",
        "\n",
        "def parse_date(fn):\n",
        "    m = re.search(r'_(\\d{4}-\\d{2}-\\d{2})_', fn)\n",
        "    return pd.to_datetime(m.group(1)) if m else pd.NaT\n",
        "\n",
        "df['patch_id'] = df['filename'].map(parse_patch_id)\n",
        "df['date']     = df['filename'].map(parse_date)\n",
        "\n",
        "# 4) Drop any rows where parsing failed\n",
        "df = df.dropna(subset=[\"patch_id\", \"date\"]).reset_index(drop=True)\n",
        "\n",
        "print(f\"Loaded {len(df)} rows; found {df['patch_id'].nunique()} unique patches\")"
      ],
      "metadata": {
        "colab": {
          "base_uri": "https://localhost:8080/"
        },
        "id": "FQx8tL3biaM5",
        "outputId": "9d623ac9-b0ac-4d6e-e811-48aadd9ae9ac"
      },
      "execution_count": null,
      "outputs": [
        {
          "output_type": "stream",
          "name": "stdout",
          "text": [
            "Loaded 14290 rows; found 174 unique patches\n"
          ]
        }
      ]
    },
    {
      "cell_type": "code",
      "source": [
        "class LSTTimeSeriesDataset(torch.utils.data.Dataset):\n",
        "    def __init__(self, df, patches_dir, weather_cols, Δt_days=16):\n",
        "        self.df = df.copy()\n",
        "        self.patches_dir = patches_dir\n",
        "        self.weather_cols = weather_cols\n",
        "        self.Δt = np.timedelta64(int(Δt_days), 'D')\n",
        "\n",
        "        # Group by patch_id, sorted in time\n",
        "        self.groups = {\n",
        "            pid: g.sort_values('date').reset_index(drop=True)\n",
        "            for pid, g in self.df.groupby('patch_id')\n",
        "        }\n",
        "\n",
        "        # Build index of valid (pid, i) pairs where date[i+1] - date[i] == Δt\n",
        "        self.index = []\n",
        "        for pid, g in self.groups.items():\n",
        "            for i in range(len(g)-1):\n",
        "                if (g.loc[i+1,'date'] - g.loc[i,'date']) == self.Δt:\n",
        "                    self.index.append((pid, i))\n",
        "\n",
        "        # Reuse your standard image transform\n",
        "        self.transform = transforms.Compose([\n",
        "            transforms.ToPILImage(),\n",
        "            transforms.Resize((224,224)),\n",
        "            transforms.ToTensor(),\n",
        "            transforms.Normalize(mean=[0.485,0.456,0.406],\n",
        "                                 std=[0.229,0.224,0.225])\n",
        "        ])\n",
        "\n",
        "    def __len__(self):\n",
        "        return len(self.index)\n",
        "\n",
        "    def __getitem__(self, idx):\n",
        "        pid, i = self.index[idx]\n",
        "        g       = self.groups[pid]\n",
        "\n",
        "        # --- t0: image + weather + lst\n",
        "        row0 = g.loc[i]\n",
        "        arr = imread(os.path.join(self.patches_dir, row0.filename))\n",
        "        img_np = arr[[1,2,3]].transpose(1,2,0).astype(np.uint8)\n",
        "        img    = self.transform(img_np)              # [3,224,224]\n",
        "\n",
        "        w0 = torch.tensor(\n",
        "            row0[self.weather_cols].values.astype(np.float32),\n",
        "            dtype=torch.float32\n",
        "        )                                                     # [len(weather_cols)]\n",
        "\n",
        "        lst0    = arr[0]                              # (H,W)\n",
        "        lst0    = torch.tensor(lst0, dtype=torch.float32).unsqueeze(0)\n",
        "        lst0    = F.interpolate(lst0.unsqueeze(0), size=(224,224),\n",
        "                               mode='bilinear', align_corners=False\n",
        "                              ).squeeze(0)           # [1,224,224]                                          # [1,224,224]\n",
        "\n",
        "        # --- t1: only LST target\n",
        "        row1 = g.loc[i+1]\n",
        "        arr1 = imread(os.path.join(\n",
        "            self.patches_dir,\n",
        "            row1.filename\n",
        "        ))\n",
        "        lst1_np = arr1[0]                                    # (H,W)\n",
        "        lst1 = torch.tensor(lst1_np, dtype=torch.float32).unsqueeze(0)\n",
        "        lst1 = F.interpolate(\n",
        "            lst1.unsqueeze(0),\n",
        "            size=(224,224),\n",
        "            mode='bilinear', align_corners=False\n",
        "        ).squeeze(0)                                          # [1,224,224]\n",
        "\n",
        "        return img, w0, lst0, lst1\n"
      ],
      "metadata": {
        "id": "j5exAz1Ej4KU"
      },
      "execution_count": null,
      "outputs": []
    },
    {
      "cell_type": "code",
      "source": [
        "ts_dataset = LSTTimeSeriesDataset(df, patches_dir, weather_cols)\n",
        "train_sz = int(0.8 * len(ts_dataset))\n",
        "train_ds, val_ds = random_split(ts_dataset, [train_sz, len(ts_dataset)-train_sz])\n",
        "\n",
        "train_loader = DataLoader(train_ds, batch_size=4, shuffle=True)\n",
        "val_loader   = DataLoader(val_ds,   batch_size=4, shuffle=False)"
      ],
      "metadata": {
        "id": "WAWFQiJaj7pC"
      },
      "execution_count": null,
      "outputs": []
    },
    {
      "cell_type": "code",
      "source": [
        "# Cell 4 ▶ ViT + weather → 224×224 decoder (with α)\n",
        "import math, torch.nn as nn, timm\n",
        "\n",
        "class PretrainedViTLSTModel(nn.Module):\n",
        "    def __init__(self,\n",
        "                 weather_dim=5,\n",
        "                 hidden_dim=768,\n",
        "                 vit_name=\"vit_base_patch16_224\",\n",
        "                 num_layers=2,\n",
        "                 num_heads=8):\n",
        "        super().__init__()\n",
        "        # --- frozen ViT backbone ---\n",
        "        self.vit = timm.create_model(vit_name, pretrained=True, num_classes=0)\n",
        "        for p in self.vit.parameters():\n",
        "            p.requires_grad = False\n",
        "\n",
        "        # --- project weather → token ---\n",
        "        self.weather_proj = nn.Linear(weather_dim, hidden_dim)\n",
        "\n",
        "        # --- tiny transformer for fusion ---\n",
        "        enc = nn.TransformerEncoderLayer(\n",
        "            d_model=hidden_dim,\n",
        "            nhead=num_heads,\n",
        "            dim_feedforward=hidden_dim * 4,\n",
        "            dropout=0.1\n",
        "        )\n",
        "        self.transformer = nn.TransformerEncoder(enc, num_layers)\n",
        "\n",
        "        # --- decoder: 14→224 via conv-transpose ---\n",
        "        self.deconv = nn.Sequential(\n",
        "            nn.ConvTranspose2d(hidden_dim, hidden_dim//2, 2, 2),\n",
        "            nn.BatchNorm2d(hidden_dim//2), nn.ReLU(inplace=True),\n",
        "\n",
        "            nn.ConvTranspose2d(hidden_dim//2, hidden_dim//4, 2, 2),\n",
        "            nn.BatchNorm2d(hidden_dim//4), nn.ReLU(inplace=True),\n",
        "\n",
        "            nn.ConvTranspose2d(hidden_dim//4, hidden_dim//8, 2, 2),\n",
        "            nn.BatchNorm2d(hidden_dim//8), nn.ReLU(inplace=True),\n",
        "\n",
        "            nn.ConvTranspose2d(hidden_dim//8, 1, 2, 2)\n",
        "        )\n",
        "\n",
        "        # --- learnable Newton-cooling coefficient α ---\n",
        "        self.alpha = nn.Parameter(torch.tensor(0.01, dtype=torch.float32))\n",
        "\n",
        "    def forward(self, images, weather):\n",
        "        feats   = self.vit.forward_features(images)  # [B,197,768]\n",
        "        cls_tok = feats[:, :1]                       # [B,1,768]\n",
        "        patch_t = feats[:, 1:]                       # [B,196,768]\n",
        "\n",
        "        w_tok   = self.weather_proj(weather).unsqueeze(1)  # [B,1,768]\n",
        "        tokens  = torch.cat([patch_t, w_tok, cls_tok], 1)  # [B,198,768]\n",
        "\n",
        "        t = self.transformer(tokens.permute(1,0,2)).permute(1,0,2)\n",
        "        patch_out = t[:, :-2, :]                       # drop weather+CLS\n",
        "\n",
        "        B, N, D = patch_out.shape  # N=196\n",
        "        G = int(math.sqrt(N))      # =14\n",
        "        x = patch_out.transpose(1,2).view(B, D, G, G)   # [B,768,14,14]\n",
        "        return self.deconv(x)                          # [B,1,224,224]"
      ],
      "metadata": {
        "id": "KmMlgMukfHc4"
      },
      "execution_count": null,
      "outputs": []
    },
    {
      "cell_type": "code",
      "source": [
        "device = torch.device(\"cuda\" if torch.cuda.is_available() else \"cpu\")\n",
        "model  = PretrainedViTLSTModel(\n",
        "    weather_dim=len(weather_cols),\n",
        "    hidden_dim=768,\n",
        "    vit_name=\"vit_base_patch16_224\",\n",
        "    num_layers=2,\n",
        "    num_heads=8\n",
        ").to(device)\n",
        "\n",
        "# unfreeze last ViT blocks:\n",
        "for name, param in model.vit.named_parameters():\n",
        "    if any(layer in name for layer in [\"blocks.10\", \"blocks.11\", \"norm\"]):\n",
        "        param.requires_grad = True"
      ],
      "metadata": {
        "colab": {
          "base_uri": "https://localhost:8080/"
        },
        "id": "stJ6GjDpfN0z",
        "outputId": "9b260b4c-fcdf-4cc0-cc60-d88944b0a8cc"
      },
      "execution_count": null,
      "outputs": [
        {
          "output_type": "stream",
          "name": "stderr",
          "text": [
            "/usr/local/lib/python3.11/dist-packages/torch/nn/modules/transformer.py:385: UserWarning: enable_nested_tensor is True, but self.use_nested_tensor is False because encoder_layer.self_attn.batch_first was not True(use batch_first for better inference performance)\n",
            "  warnings.warn(\n"
          ]
        }
      ]
    },
    {
      "cell_type": "code",
      "source": [
        "opt       = torch.optim.AdamW(\n",
        "    filter(lambda p: p.requires_grad, model.parameters()),\n",
        "    lr=1e-4, weight_decay=1e-2\n",
        ")\n",
        "loss_fn   = nn.SmoothL1Loss()\n",
        "scheduler = torch.optim.lr_scheduler.ReduceLROnPlateau(\n",
        "    opt, mode='min', factor=0.5, patience=3, verbose=True\n",
        ")"
      ],
      "metadata": {
        "colab": {
          "base_uri": "https://localhost:8080/"
        },
        "id": "u0AIOLwKfQTY",
        "outputId": "f7447a06-3801-447c-feea-815f86b87c71"
      },
      "execution_count": null,
      "outputs": [
        {
          "output_type": "stream",
          "name": "stderr",
          "text": [
            "/usr/local/lib/python3.11/dist-packages/torch/optim/lr_scheduler.py:62: UserWarning: The verbose parameter is deprecated. Please use get_last_lr() to access the learning rate.\n",
            "  warnings.warn(\n"
          ]
        }
      ]
    },
    {
      "cell_type": "code",
      "source": [
        "# Cell 0 ▶ install LZW support\n",
        "!pip install imagecodecs --quiet\n"
      ],
      "metadata": {
        "id": "P8bR1Wxugelh"
      },
      "execution_count": null,
      "outputs": []
    },
    {
      "cell_type": "code",
      "source": [
        "from tifffile import imread\n"
      ],
      "metadata": {
        "id": "MPt46Y4mlnR1"
      },
      "execution_count": null,
      "outputs": []
    },
    {
      "cell_type": "code",
      "source": [
        "from tqdm import tqdm\n",
        "import os\n",
        "from pathlib import Path\n",
        "import torch\n",
        "\n",
        "save_dir = Path(\"/content/drive/MyDrive/Model_vit_mlp_transformer_30m_Checkpoints\")\n",
        "save_dir.mkdir(parents=True, exist_ok=True)\n",
        "\n",
        "num_epochs = 10\n",
        "start_ep   = 0\n",
        "\n",
        "λ_phys   = 1.0     # physics‐loss weight\n",
        "Δt_days  = 16.0    # 16‐day revisit\n",
        "\n",
        "for epoch in range(start_ep, num_epochs):\n",
        "    # — TRAIN —\n",
        "    model.train()\n",
        "    total_data_loss = 0.0\n",
        "    total_phys_loss = 0.0\n",
        "\n",
        "    for imgs, weather, lst0, lst1 in tqdm(train_loader, desc=f\"Epoch {epoch+1:02d} Train\"):\n",
        "        imgs, weather, lst0, lst1 = (\n",
        "            imgs.to(device), weather.to(device),\n",
        "            lst0.to(device), lst1.to(device)\n",
        "        )\n",
        "\n",
        "        opt.zero_grad()\n",
        "        pred1 = model(imgs, weather)  # [B,1,224,224]\n",
        "\n",
        "        # 1) Data‐fit loss (per‐pixel)\n",
        "        data_loss = loss_fn(pred1, lst1)\n",
        "\n",
        "        # 2) Physics loss on spatial means\n",
        "        lst0_mean  = lst0.mean(dim=[2,3])        # [B,1]\n",
        "        pred1_mean = pred1.mean(dim=[2,3])      # [B,1]\n",
        "        T_air0     = weather[:, 0].view(-1,1)   # [B,1]  (air_temp_C)\n",
        "\n",
        "        phys_residual = (pred1_mean - lst0_mean) / Δt_days \\\n",
        "                        - model.alpha * (T_air0 - lst0_mean)\n",
        "        phys_loss = phys_residual.pow(2).mean()\n",
        "\n",
        "        # 3) Combined loss\n",
        "        loss = data_loss + λ_phys * phys_loss\n",
        "        loss.backward()\n",
        "        torch.nn.utils.clip_grad_norm_(model.parameters(), 1.0)\n",
        "        opt.step()\n",
        "\n",
        "        total_data_loss += data_loss.item() * imgs.size(0)\n",
        "        total_phys_loss += phys_loss.item() * imgs.size(0)\n",
        "\n",
        "    # epoch‐level metrics\n",
        "    avg_data_loss = total_data_loss / len(train_loader.dataset)\n",
        "    avg_phys_loss = total_phys_loss / len(train_loader.dataset)\n",
        "    train_rmse    = (avg_data_loss + λ_phys * avg_phys_loss) ** 0.5\n",
        "\n",
        "    # — VALIDATION —\n",
        "    model.eval()\n",
        "    val_data_loss = 0.0\n",
        "    with torch.no_grad():\n",
        "        for imgs, weather, lst0, lst1 in tqdm(val_loader, desc=f\"Epoch {epoch+1:02d} Val\"):\n",
        "            imgs, weather, lst0, lst1 = (\n",
        "                imgs.to(device), weather.to(device),\n",
        "                lst0.to(device), lst1.to(device)\n",
        "            )\n",
        "            pred1 = model(imgs, weather)\n",
        "            batch_loss = loss_fn(pred1, lst1).item()\n",
        "            val_data_loss += batch_loss * imgs.size(0)\n",
        "\n",
        "    val_rmse = (val_data_loss / len(val_loader.dataset)) ** 0.5\n",
        "\n",
        "    # — LR scheduler & checkpoint —\n",
        "    scheduler.step(val_data_loss)\n",
        "    print(f\"Epoch {epoch+1:02d} ▶ Train RMSE: {train_rmse:.3f} | Val RMSE: {val_rmse:.3f}\")\n",
        "\n",
        "    ckpt = save_dir / f\"pinn_epoch{epoch+1:02d}.pt\"\n",
        "    torch.save({\n",
        "        'epoch': epoch+1,\n",
        "        'model_state_dict': model.state_dict(),\n",
        "        'optimizer_state_dict': opt.state_dict(),\n",
        "        'train_rmse': train_rmse,\n",
        "        'val_rmse': val_rmse,\n",
        "        'alpha': model.alpha.detach().cpu().item()\n",
        "    }, ckpt)\n",
        "    print(f\"✅ Saved checkpoint: {ckpt}\")\n",
        "\n",
        "print(\"✅ Training finished\")\n"
      ],
      "metadata": {
        "colab": {
          "base_uri": "https://localhost:8080/"
        },
        "id": "DIbFRroNfSHy",
        "outputId": "f201c0b9-b5d7-402b-d672-9db91158eb85"
      },
      "execution_count": null,
      "outputs": [
        {
          "output_type": "stream",
          "name": "stderr",
          "text": [
            "Epoch 01 Train:  47%|████▋     | 965/2058 [1:39:54<1:33:30,  5.13s/it]"
          ]
        }
      ]
    }
  ]
}